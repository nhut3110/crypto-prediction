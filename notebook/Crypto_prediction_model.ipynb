{
  "nbformat": 4,
  "nbformat_minor": 0,
  "metadata": {
    "colab": {
      "provenance": []
    },
    "kernelspec": {
      "name": "python3",
      "display_name": "Python 3"
    },
    "language_info": {
      "name": "python"
    }
  },
  "cells": [
    {
      "cell_type": "markdown",
      "source": [
        "# Chuẩn bị thư viện cần thiết"
      ],
      "metadata": {
        "id": "YZhGJeGH4T-d"
      }
    },
    {
      "cell_type": "code",
      "execution_count": 14,
      "metadata": {
        "colab": {
          "base_uri": "https://localhost:8080/"
        },
        "id": "xzORiJ9Tw-_f",
        "outputId": "a1006e2e-e2f0-4980-8940-5691355e514c"
      },
      "outputs": [
        {
          "output_type": "stream",
          "name": "stdout",
          "text": [
            "Requirement already satisfied: pandas in /usr/local/lib/python3.10/dist-packages (1.5.3)\n",
            "Requirement already satisfied: pandas_datareader in /usr/local/lib/python3.10/dist-packages (0.10.0)\n",
            "Requirement already satisfied: python-dateutil>=2.8.1 in /usr/local/lib/python3.10/dist-packages (from pandas) (2.8.2)\n",
            "Requirement already satisfied: pytz>=2020.1 in /usr/local/lib/python3.10/dist-packages (from pandas) (2023.3.post1)\n",
            "Requirement already satisfied: numpy>=1.21.0 in /usr/local/lib/python3.10/dist-packages (from pandas) (1.23.5)\n",
            "Requirement already satisfied: lxml in /usr/local/lib/python3.10/dist-packages (from pandas_datareader) (4.9.3)\n",
            "Requirement already satisfied: requests>=2.19.0 in /usr/local/lib/python3.10/dist-packages (from pandas_datareader) (2.31.0)\n",
            "Requirement already satisfied: six>=1.5 in /usr/local/lib/python3.10/dist-packages (from python-dateutil>=2.8.1->pandas) (1.16.0)\n",
            "Requirement already satisfied: charset-normalizer<4,>=2 in /usr/local/lib/python3.10/dist-packages (from requests>=2.19.0->pandas_datareader) (3.3.2)\n",
            "Requirement already satisfied: idna<4,>=2.5 in /usr/local/lib/python3.10/dist-packages (from requests>=2.19.0->pandas_datareader) (3.4)\n",
            "Requirement already satisfied: urllib3<3,>=1.21.1 in /usr/local/lib/python3.10/dist-packages (from requests>=2.19.0->pandas_datareader) (2.0.7)\n",
            "Requirement already satisfied: certifi>=2017.4.17 in /usr/local/lib/python3.10/dist-packages (from requests>=2.19.0->pandas_datareader) (2023.7.22)\n",
            "Requirement already satisfied: ccxt in /usr/local/lib/python3.10/dist-packages (4.1.59)\n",
            "Requirement already satisfied: setuptools>=60.9.0 in /usr/local/lib/python3.10/dist-packages (from ccxt) (67.7.2)\n",
            "Requirement already satisfied: certifi>=2018.1.18 in /usr/local/lib/python3.10/dist-packages (from ccxt) (2023.7.22)\n",
            "Requirement already satisfied: requests>=2.18.4 in /usr/local/lib/python3.10/dist-packages (from ccxt) (2.31.0)\n",
            "Requirement already satisfied: cryptography>=2.6.1 in /usr/local/lib/python3.10/dist-packages (from ccxt) (41.0.5)\n",
            "Requirement already satisfied: typing-extensions>=4.4.0 in /usr/local/lib/python3.10/dist-packages (from ccxt) (4.5.0)\n",
            "Requirement already satisfied: aiohttp>=3.8 in /usr/local/lib/python3.10/dist-packages (from ccxt) (3.8.6)\n",
            "Requirement already satisfied: aiodns>=1.1.1 in /usr/local/lib/python3.10/dist-packages (from ccxt) (3.1.1)\n",
            "Requirement already satisfied: yarl>=1.7.2 in /usr/local/lib/python3.10/dist-packages (from ccxt) (1.9.2)\n",
            "Requirement already satisfied: tox>=4.8.0 in /usr/local/lib/python3.10/dist-packages (from ccxt) (4.11.3)\n",
            "Requirement already satisfied: pycares>=4.0.0 in /usr/local/lib/python3.10/dist-packages (from aiodns>=1.1.1->ccxt) (4.4.0)\n",
            "Requirement already satisfied: attrs>=17.3.0 in /usr/local/lib/python3.10/dist-packages (from aiohttp>=3.8->ccxt) (23.1.0)\n",
            "Requirement already satisfied: charset-normalizer<4.0,>=2.0 in /usr/local/lib/python3.10/dist-packages (from aiohttp>=3.8->ccxt) (3.3.2)\n",
            "Requirement already satisfied: multidict<7.0,>=4.5 in /usr/local/lib/python3.10/dist-packages (from aiohttp>=3.8->ccxt) (6.0.4)\n",
            "Requirement already satisfied: async-timeout<5.0,>=4.0.0a3 in /usr/local/lib/python3.10/dist-packages (from aiohttp>=3.8->ccxt) (4.0.3)\n",
            "Requirement already satisfied: frozenlist>=1.1.1 in /usr/local/lib/python3.10/dist-packages (from aiohttp>=3.8->ccxt) (1.4.0)\n",
            "Requirement already satisfied: aiosignal>=1.1.2 in /usr/local/lib/python3.10/dist-packages (from aiohttp>=3.8->ccxt) (1.3.1)\n",
            "Requirement already satisfied: cffi>=1.12 in /usr/local/lib/python3.10/dist-packages (from cryptography>=2.6.1->ccxt) (1.16.0)\n",
            "Requirement already satisfied: idna<4,>=2.5 in /usr/local/lib/python3.10/dist-packages (from requests>=2.18.4->ccxt) (3.4)\n",
            "Requirement already satisfied: urllib3<3,>=1.21.1 in /usr/local/lib/python3.10/dist-packages (from requests>=2.18.4->ccxt) (2.0.7)\n",
            "Requirement already satisfied: cachetools>=5.3.1 in /usr/local/lib/python3.10/dist-packages (from tox>=4.8.0->ccxt) (5.3.2)\n",
            "Requirement already satisfied: chardet>=5.2 in /usr/local/lib/python3.10/dist-packages (from tox>=4.8.0->ccxt) (5.2.0)\n",
            "Requirement already satisfied: colorama>=0.4.6 in /usr/local/lib/python3.10/dist-packages (from tox>=4.8.0->ccxt) (0.4.6)\n",
            "Requirement already satisfied: filelock>=3.12.3 in /usr/local/lib/python3.10/dist-packages (from tox>=4.8.0->ccxt) (3.13.1)\n",
            "Requirement already satisfied: packaging>=23.1 in /usr/local/lib/python3.10/dist-packages (from tox>=4.8.0->ccxt) (23.2)\n",
            "Requirement already satisfied: platformdirs>=3.10 in /usr/local/lib/python3.10/dist-packages (from tox>=4.8.0->ccxt) (3.11.0)\n",
            "Requirement already satisfied: pluggy>=1.3 in /usr/local/lib/python3.10/dist-packages (from tox>=4.8.0->ccxt) (1.3.0)\n",
            "Requirement already satisfied: pyproject-api>=1.6.1 in /usr/local/lib/python3.10/dist-packages (from tox>=4.8.0->ccxt) (1.6.1)\n",
            "Requirement already satisfied: tomli>=2.0.1 in /usr/local/lib/python3.10/dist-packages (from tox>=4.8.0->ccxt) (2.0.1)\n",
            "Requirement already satisfied: virtualenv>=20.24.3 in /usr/local/lib/python3.10/dist-packages (from tox>=4.8.0->ccxt) (20.24.6)\n",
            "Requirement already satisfied: pycparser in /usr/local/lib/python3.10/dist-packages (from cffi>=1.12->cryptography>=2.6.1->ccxt) (2.21)\n",
            "Requirement already satisfied: distlib<1,>=0.3.7 in /usr/local/lib/python3.10/dist-packages (from virtualenv>=20.24.3->tox>=4.8.0->ccxt) (0.3.7)\n"
          ]
        }
      ],
      "source": [
        "!pip install pandas pandas_datareader\n",
        "!pip install ccxt\n",
        "import pandas as pd\n",
        "import pandas_datareader as web\n",
        "from datetime import datetime\n",
        "import matplotlib.pyplot as plt\n",
        "import matplotlib.dates as mdates\n",
        "import math\n",
        "import numpy as np\n",
        "import tensorflow as tf\n",
        "from sklearn.preprocessing import MinMaxScaler\n",
        "from keras.models import Sequential\n",
        "from keras.layers import Dense, LSTM\n",
        "import ccxt\n",
        "import time\n",
        "from keras.models import Sequential\n",
        "from keras.layers import LSTM, Dense, Conv1D, MaxPooling1D, Flatten, Dropout, RepeatVector, Bidirectional\n",
        "from keras.callbacks import EarlyStopping, ModelCheckpoint, ReduceLROnPlateau\n",
        "from keras.regularizers import l1, l2, l1_l2"
      ]
    },
    {
      "cell_type": "markdown",
      "source": [
        "# Các function cần thiết (nhận data, xử lý data và train model)"
      ],
      "metadata": {
        "id": "MLb8p1lo4aEo"
      }
    },
    {
      "cell_type": "code",
      "source": [
        "# Hàm để lấy tất cả dữ liệu về tiền điện tử\n",
        "def fetch_all_crypto_data(crypto_id, time_frame='1d'):\n",
        "    # Khởi tạo sàn giao dịch Binance với rate limit được kích hoạt\n",
        "    exchange = ccxt.binanceus({\n",
        "        'enableRateLimit': True   # Kích hoạt rate limit để giữ khoảng cách giữa các yêu cầu\n",
        "    })\n",
        "\n",
        "    # Lấy thời gian hiện tại theo milliseconds\n",
        "    now = exchange.milliseconds()\n",
        "    all_ohlcv = [] # Danh sách chứa tất cả dữ liệu OHLCV\n",
        "\n",
        "    # Bắt đầu từ ngày sớm nhất bạn muốn lấy dữ liệu\n",
        "    since = exchange.parse8601('2014-01-01T00:00:00Z')\n",
        "\n",
        "    # Lặp để lấy dữ liệu cho đến thời điểm hiện tại\n",
        "    while since < now:\n",
        "        ohlcv = exchange.fetch_ohlcv(crypto_id, time_frame, since)\n",
        "        if not ohlcv:\n",
        "            break # Nếu không có dữ liệu thì dừng vòng lặp\n",
        "        all_ohlcv.extend(ohlcv)\n",
        "        # Cập nhật 'since' để lấy dữ liệu cho khoảng thời gian tiếp theo\n",
        "        since = ohlcv[-1][0] + exchange.parse_timeframe(time_frame) * 1000  # Add one timeframe to 'since'\n",
        "\n",
        "        # rate limit\n",
        "        exchange.rateLimit = 2000\n",
        "        time.sleep(exchange.rateLimit / 1000)  # Tạm dừng thực thi theo rate limit để tránh bị khóa\n",
        "\n",
        "    df = pd.DataFrame(all_ohlcv, columns=['timestamp', 'open', 'high', 'low', 'close', 'volume'])\n",
        "    df['timestamp'] = pd.to_datetime(df['timestamp'], unit='ms')\n",
        "    df.set_index('timestamp', inplace=True)\n",
        "    return df\n"
      ],
      "metadata": {
        "id": "W3AMYZxRxBd2"
      },
      "execution_count": 15,
      "outputs": []
    },
    {
      "cell_type": "code",
      "source": [
        "# Hàm chuẩn bị dữ liệu đa bước\n",
        "def prepare_multistep_data(df, column, n_steps_in, n_steps_out, split_ratio=0.8):\n",
        "    # Lọc cột dữ liệu cần thiết từ DataFrame\n",
        "    data = df.filter([column])\n",
        "    # Chuyển DataFrame thành mảng numpy\n",
        "    dataset = data.values\n",
        "\n",
        "    # Tính toán độ dài của dữ liệu huấn luyện dựa trên tỷ lệ phân chia\n",
        "    train_data_len = math.ceil(len(dataset) * split_ratio)\n",
        "\n",
        "    # Chuẩn hóa dữ liệu\n",
        "    scaler = MinMaxScaler(feature_range=(0, 1))\n",
        "    scaled_data = scaler.fit_transform(dataset)\n",
        "\n",
        "    # Tạo dữ liệu huấn luyện\n",
        "    train_data = scaled_data[0:train_data_len, :]\n",
        "    x_train, y_train = [], []\n",
        "\n",
        "    # Lặp qua dữ liệu để tạo các mẫu dữ liệu đa bước\n",
        "    for i in range(n_steps_in, len(train_data) - n_steps_out +1):\n",
        "        # Mẫu đầu vào x_train bao gồm n_steps_in điểm dữ liệu liên tiếp\n",
        "        x_train.append(train_data[i - n_steps_in:i, 0])\n",
        "        # Mẫu đầu ra y_train bao gồm n_steps_out điểm dữ liệu tiếp theo sau mỗi mẫu x_train\n",
        "        y_train.append(train_data[i:i + n_steps_out, 0])\n",
        "\n",
        "    # Chuyển danh sách thành mảng numpy và định hình lại cho phù hợp với mô hình học sâu\n",
        "    x_train, y_train = np.array(x_train), np.array(y_train)\n",
        "    x_train = np.reshape(x_train, (x_train.shape[0], x_train.shape[1], 1))\n",
        "\n",
        "    # Tạo dữ liệu kiểm tra tương tự (đang bỏ qua bước này)\n",
        "\n",
        "    return x_train, y_train, scaler, train_data_len, dataset\n"
      ],
      "metadata": {
        "id": "fPiaPeU_xWUS"
      },
      "execution_count": 16,
      "outputs": []
    },
    {
      "cell_type": "code",
      "source": [
        "def build_and_train_multistep_model(x_train, y_train, n_steps_out, epochs=100, batch_size=32):\n",
        "    # Tạo mô hình Sequential\n",
        "    model = Sequential()\n",
        "    # Thêm lớp LSTM hai chiều với 100 nút, trả về trạng thái ở mọi bước thời gian\n",
        "    model.add(Bidirectional(LSTM(100, return_sequences=True, input_shape=(x_train.shape[1], 1))))\n",
        "    # Thêm lớp Dropout để giảm overfitting\n",
        "    model.add(Dropout(0.2))\n",
        "    # Thêm một lớp LSTM hai chiều khác\n",
        "    model.add(Bidirectional(LSTM(100, return_sequences=False)))\n",
        "    # Thêm lớp Dropout thứ hai\n",
        "    model.add(Dropout(0.2))\n",
        "    # Thêm lớp Dense để dự đoán n_steps_out bước tiếp theo\n",
        "    model.add(Dense(n_steps_out, activation='relu'))\n",
        "\n",
        "    # Biên dịch mô hình\n",
        "    model.compile(optimizer='adam', loss='mae')\n",
        "    # Tạo callback EarlyStopping để dừng sớm nếu mô hình không cải thiện\n",
        "    early_stopping = EarlyStopping(monitor='loss', patience=20, restore_best_weights=True)\n",
        "    # Tạo callback ModelCheckpoint để lưu mô hình tốt nhất\n",
        "    model_checkpoint = ModelCheckpoint('best_model.h5', save_best_only=True)\n",
        "    # Tạo callback ReduceLROnPlateau để giảm tốc độ học nếu mô hình không cải thiện\n",
        "    reduce_lr = ReduceLROnPlateau(monitor='loss', factor=0.2, patience=10)\n",
        "\n",
        "    # Huấn luyện mô hình với dữ liệu đầu vào\n",
        "    history = model.fit(\n",
        "        x_train, y_train,\n",
        "        epochs=epochs,\n",
        "        batch_size=batch_size,\n",
        "        callbacks=[early_stopping, model_checkpoint, reduce_lr]\n",
        "    )\n",
        "\n",
        "    return model, history\n"
      ],
      "metadata": {
        "id": "zeVZiebDxaXK"
      },
      "execution_count": 17,
      "outputs": []
    },
    {
      "cell_type": "markdown",
      "source": [
        "# Lấy dữ liệu BNB và ETH"
      ],
      "metadata": {
        "id": "_SlgjhCn5oIu"
      }
    },
    {
      "cell_type": "code",
      "source": [
        "bnb_df = fetch_all_crypto_data('BNB/USDT')"
      ],
      "metadata": {
        "id": "vpv6pZpfyTv2"
      },
      "execution_count": 18,
      "outputs": []
    },
    {
      "cell_type": "code",
      "source": [
        "eth_df = fetch_all_crypto_data('ETH/USDT')"
      ],
      "metadata": {
        "id": "jrnXswAmc18u"
      },
      "execution_count": 19,
      "outputs": []
    },
    {
      "cell_type": "markdown",
      "source": [
        "# Vẽ biểu đồ giá BNB và ETH"
      ],
      "metadata": {
        "id": "QtUoaFGB5t98"
      }
    },
    {
      "cell_type": "code",
      "source": [
        "# Sắp xếp DataFrame theo chỉ mục (ngày) theo thứ tự tăng dần\n",
        "bnb_df.sort_index(ascending=True, inplace=True)\n",
        "\n",
        "# Vẽ biểu đồ giá Binance Coin\n",
        "plt.figure(figsize=(15, 7))  # Điều chỉnh kích thước theo nhu cầu\n",
        "plt.plot(bnb_df.index, bnb_df['close'], label='BNB Close Price')\n",
        "\n",
        "# Định dạng trục thời gian\n",
        "plt.gca().xaxis.set_major_locator(mdates.AutoDateLocator())\n",
        "plt.gca().xaxis.set_major_formatter(mdates.DateFormatter('%Y'))\n",
        "plt.gcf().autofmt_xdate()  # Rotation\n",
        "\n",
        "# Tiêu đề và nhãn\n",
        "plt.title('Binance Coin Price Over Time')\n",
        "plt.xlabel('Date')\n",
        "plt.ylabel('Close Price (USD)')\n",
        "plt.legend()\n",
        "\n",
        "# Hiển thị biểu đồ với ngày\n",
        "plt.show()\n",
        "\n",
        "# Hiển thị một số hàng đầu tiên của tập dữ liệu\n",
        "print(bnb_df.head())\n"
      ],
      "metadata": {
        "colab": {
          "base_uri": "https://localhost:8080/",
          "height": 716
        },
        "id": "A3cEhvAMyT34",
        "outputId": "26d5d4fa-06de-4d0d-b6a6-53369f03e5b7"
      },
      "execution_count": 20,
      "outputs": [
        {
          "output_type": "display_data",
          "data": {
            "text/plain": [
              "<Figure size 1500x700 with 1 Axes>"
            ],
            "image/png": "[encoded data removed]"
          },
          "metadata": {}
        },
        {
          "output_type": "stream",
          "name": "stdout",
          "text": [
            "               open     high      low    close    volume\n",
            "timestamp                                               \n",
            "2019-09-23  19.8787  19.8787  19.8787  19.8787      0.10\n",
            "2019-09-24  18.7526  18.7684  14.8282  15.8755  17466.73\n",
            "2019-09-25  15.8134  16.3429  14.9626  16.0652   3215.02\n",
            "2019-09-26  15.9926  16.2401  14.5001  15.2221   2935.23\n",
            "2019-09-27  15.3026  15.7365  14.7586  15.6038   1657.48\n"
          ]
        }
      ]
    },
    {
      "cell_type": "code",
      "source": [
        "# Sắp xếp DataFrame theo chỉ mục (ngày) theo thứ tự tăng dần\n",
        "eth_df.sort_index(ascending=True, inplace=True)\n",
        "\n",
        "# Vẽ biểu đồ giá Ethereum Coin\n",
        "plt.figure(figsize=(15, 7))  # Điều chỉnh kích thước theo nhu cầu\n",
        "plt.plot(eth_df.index, eth_df['close'], label='ETH Close Price')\n",
        "\n",
        "# Định dạng trục thời gian\n",
        "plt.gca().xaxis.set_major_locator(mdates.AutoDateLocator())\n",
        "plt.gca().xaxis.set_major_formatter(mdates.DateFormatter('%Y'))\n",
        "plt.gcf().autofmt_xdate()  # Rotation\n",
        "\n",
        "# Tiêu đề và nhãn\n",
        "plt.title('Etherium Coin Price Over Time')\n",
        "plt.xlabel('Date')\n",
        "plt.ylabel('Close Price (USD)')\n",
        "plt.legend()\n",
        "\n",
        "# Hiển thị biểu đồ với ngày\n",
        "plt.show()\n",
        "\n",
        "# Hiển thị một số hàng đầu tiên của tập dữ liệu\n",
        "print(eth_df.head())"
      ],
      "metadata": {
        "colab": {
          "base_uri": "https://localhost:8080/",
          "height": 716
        },
        "id": "euDYE_R7c7uc",
        "outputId": "22890dac-a4b5-4ca7-979c-a346b9d8dd5a"
      },
      "execution_count": 21,
      "outputs": [
        {
          "output_type": "display_data",
          "data": {
            "text/plain": [
              "<Figure size 1500x700 with 1 Axes>"
            ],
            "image/png": "[encoded data removed]"
          },
          "metadata": {}
        },
        {
          "output_type": "stream",
          "name": "stdout",
          "text": [
            "              open    high     low   close      volume\n",
            "timestamp                                             \n",
            "2019-09-23  209.55  209.55  209.55  209.55     0.01000\n",
            "2019-09-24  195.50  195.50  152.56  167.09  2224.36708\n",
            "2019-09-25  166.84  174.15  163.18  170.00   181.60286\n",
            "2019-09-26  169.95  170.77  153.07  166.69   545.45350\n",
            "2019-09-27  166.34  175.54  161.44  173.69   630.91688\n"
          ]
        }
      ]
    },
    {
      "cell_type": "markdown",
      "source": [
        "# Chuẩn bị data để train"
      ],
      "metadata": {
        "id": "rFqHAw_q6XBf"
      }
    },
    {
      "cell_type": "code",
      "source": [
        "n_steps_in, n_steps_out = 60, 180  # Ví dụ: dự đoán 180 ngày dựa trên 60 ngày trước đó\n",
        "bnb_x_train, bnb_y_train, bnb_scaler, bnb_train_len, bnb_dataset = prepare_multistep_data(bnb_df, 'close', n_steps_in, n_steps_out)\n",
        "eth_x_train, eth_y_train, eth_scaler, eth_train_len, eth_dataset = prepare_multistep_data(eth_df, 'close', n_steps_in, n_steps_out)"
      ],
      "metadata": {
        "id": "teCxXN_GyWEK"
      },
      "execution_count": 31,
      "outputs": []
    },
    {
      "cell_type": "markdown",
      "source": [
        "# Train model cho ETH và BNB"
      ],
      "metadata": {
        "id": "AHHtKl7y6aOf"
      }
    },
    {
      "cell_type": "code",
      "source": [
        "bnb_model, bnb_history = build_and_train_multistep_model(bnb_x_train, bnb_y_train, n_steps_out, 50, 32)"
      ],
      "metadata": {
        "colab": {
          "base_uri": "https://localhost:8080/"
        },
        "id": "ieh5dzksykcY",
        "outputId": "59556e1d-47d0-4bd1-8d7c-8609db967adf"
      },
      "execution_count": 32,
      "outputs": [
        {
          "output_type": "stream",
          "name": "stdout",
          "text": [
            "Epoch 1/50\n",
            "31/31 [==============================] - ETA: 0s - loss: 0.1998"
          ]
        },
        {
          "output_type": "stream",
          "name": "stderr",
          "text": [
            "WARNING:tensorflow:Can save best model only with val_loss available, skipping.\n"
          ]
        },
        {
          "output_type": "stream",
          "name": "stdout",
          "text": [
            "\b\b\b\b\b\b\b\b\b\b\b\b\b\b\b\b\b\b\b\b\b\b\b\b\b\b\b\b\b\b\b\b\b\b\b\b\b\b\b\b\b\b\b\b\b\b\b\b\b\b\b\b\b\b\b\b\b\b\b\b\b\b\b\r31/31 [==============================] - 19s 223ms/step - loss: 0.1998 - lr: 0.0010\n",
            "Epoch 2/50\n",
            "31/31 [==============================] - ETA: 0s - loss: 0.1347"
          ]
        },
        {
          "output_type": "stream",
          "name": "stderr",
          "text": [
            "WARNING:tensorflow:Can save best model only with val_loss available, skipping.\n"
          ]
        },
        {
          "output_type": "stream",
          "name": "stdout",
          "text": [
            "\b\b\b\b\b\b\b\b\b\b\b\b\b\b\b\b\b\b\b\b\b\b\b\b\b\b\b\b\b\b\b\b\b\b\b\b\b\b\b\b\b\b\b\b\b\b\b\b\b\b\b\b\b\b\b\b\b\b\b\b\b\b\b\r31/31 [==============================] - 9s 302ms/step - loss: 0.1347 - lr: 0.0010\n",
            "Epoch 3/50\n",
            "31/31 [==============================] - ETA: 0s - loss: 0.1180"
          ]
        },
        {
          "output_type": "stream",
          "name": "stderr",
          "text": [
            "WARNING:tensorflow:Can save best model only with val_loss available, skipping.\n"
          ]
        },
        {
          "output_type": "stream",
          "name": "stdout",
          "text": [
            "\b\b\b\b\b\b\b\b\b\b\b\b\b\b\b\b\b\b\b\b\b\b\b\b\b\b\b\b\b\b\b\b\b\b\b\b\b\b\b\b\b\b\b\b\b\b\b\b\b\b\b\b\b\b\b\b\b\b\b\b\b\b\b\r31/31 [==============================] - 8s 267ms/step - loss: 0.1180 - lr: 0.0010\n",
            "Epoch 4/50\n",
            "31/31 [==============================] - ETA: 0s - loss: 0.1075"
          ]
        },
        {
          "output_type": "stream",
          "name": "stderr",
          "text": [
            "WARNING:tensorflow:Can save best model only with val_loss available, skipping.\n"
          ]
        },
        {
          "output_type": "stream",
          "name": "stdout",
          "text": [
            "\b\b\b\b\b\b\b\b\b\b\b\b\b\b\b\b\b\b\b\b\b\b\b\b\b\b\b\b\b\b\b\b\b\b\b\b\b\b\b\b\b\b\b\b\b\b\b\b\b\b\b\b\b\b\b\b\b\b\b\b\b\b\b\r31/31 [==============================] - 9s 273ms/step - loss: 0.1075 - lr: 0.0010\n",
            "Epoch 5/50\n",
            "31/31 [==============================] - ETA: 0s - loss: 0.1124"
          ]
        },
        {
          "output_type": "stream",
          "name": "stderr",
          "text": [
            "WARNING:tensorflow:Can save best model only with val_loss available, skipping.\n"
          ]
        },
        {
          "output_type": "stream",
          "name": "stdout",
          "text": [
            "\b\b\b\b\b\b\b\b\b\b\b\b\b\b\b\b\b\b\b\b\b\b\b\b\b\b\b\b\b\b\b\b\b\b\b\b\b\b\b\b\b\b\b\b\b\b\b\b\b\b\b\b\b\b\b\b\b\b\b\b\b\b\b\r31/31 [==============================] - 11s 372ms/step - loss: 0.1124 - lr: 0.0010\n",
            "Epoch 6/50\n",
            "31/31 [==============================] - ETA: 0s - loss: 0.1019"
          ]
        },
        {
          "output_type": "stream",
          "name": "stderr",
          "text": [
            "WARNING:tensorflow:Can save best model only with val_loss available, skipping.\n"
          ]
        },
        {
          "output_type": "stream",
          "name": "stdout",
          "text": [
            "\b\b\b\b\b\b\b\b\b\b\b\b\b\b\b\b\b\b\b\b\b\b\b\b\b\b\b\b\b\b\b\b\b\b\b\b\b\b\b\b\b\b\b\b\b\b\b\b\b\b\b\b\b\b\b\b\b\b\b\b\b\b\b\r31/31 [==============================] - 8s 241ms/step - loss: 0.1019 - lr: 0.0010\n",
            "Epoch 7/50\n",
            "31/31 [==============================] - ETA: 0s - loss: 0.0977"
          ]
        },
        {
          "output_type": "stream",
          "name": "stderr",
          "text": [
            "WARNING:tensorflow:Can save best model only with val_loss available, skipping.\n"
          ]
        },
        {
          "output_type": "stream",
          "name": "stdout",
          "text": [
            "\b\b\b\b\b\b\b\b\b\b\b\b\b\b\b\b\b\b\b\b\b\b\b\b\b\b\b\b\b\b\b\b\b\b\b\b\b\b\b\b\b\b\b\b\b\b\b\b\b\b\b\b\b\b\b\b\b\b\b\b\b\b\b\r31/31 [==============================] - 9s 306ms/step - loss: 0.0977 - lr: 0.0010\n",
            "Epoch 8/50\n",
            "31/31 [==============================] - ETA: 0s - loss: 0.1045"
          ]
        },
        {
          "output_type": "stream",
          "name": "stderr",
          "text": [
            "WARNING:tensorflow:Can save best model only with val_loss available, skipping.\n"
          ]
        },
        {
          "output_type": "stream",
          "name": "stdout",
          "text": [
            "\b\b\b\b\b\b\b\b\b\b\b\b\b\b\b\b\b\b\b\b\b\b\b\b\b\b\b\b\b\b\b\b\b\b\b\b\b\b\b\b\b\b\b\b\b\b\b\b\b\b\b\b\b\b\b\b\b\b\b\b\b\b\b\r31/31 [==============================] - 7s 235ms/step - loss: 0.1045 - lr: 0.0010\n",
            "Epoch 9/50\n",
            "31/31 [==============================] - ETA: 0s - loss: 0.1221"
          ]
        },
        {
          "output_type": "stream",
          "name": "stderr",
          "text": [
            "WARNING:tensorflow:Can save best model only with val_loss available, skipping.\n"
          ]
        },
        {
          "output_type": "stream",
          "name": "stdout",
          "text": [
            "\b\b\b\b\b\b\b\b\b\b\b\b\b\b\b\b\b\b\b\b\b\b\b\b\b\b\b\b\b\b\b\b\b\b\b\b\b\b\b\b\b\b\b\b\b\b\b\b\b\b\b\b\b\b\b\b\b\b\b\b\b\b\b\r31/31 [==============================] - 10s 313ms/step - loss: 0.1221 - lr: 0.0010\n",
            "Epoch 10/50\n",
            "31/31 [==============================] - ETA: 0s - loss: 0.1311"
          ]
        },
        {
          "output_type": "stream",
          "name": "stderr",
          "text": [
            "WARNING:tensorflow:Can save best model only with val_loss available, skipping.\n"
          ]
        },
        {
          "output_type": "stream",
          "name": "stdout",
          "text": [
            "\b\b\b\b\b\b\b\b\b\b\b\b\b\b\b\b\b\b\b\b\b\b\b\b\b\b\b\b\b\b\b\b\b\b\b\b\b\b\b\b\b\b\b\b\b\b\b\b\b\b\b\b\b\b\b\b\b\b\b\b\b\b\b\r31/31 [==============================] - 7s 227ms/step - loss: 0.1311 - lr: 0.0010\n",
            "Epoch 11/50\n",
            "31/31 [==============================] - ETA: 0s - loss: 0.1145"
          ]
        },
        {
          "output_type": "stream",
          "name": "stderr",
          "text": [
            "WARNING:tensorflow:Can save best model only with val_loss available, skipping.\n"
          ]
        },
        {
          "output_type": "stream",
          "name": "stdout",
          "text": [
            "\b\b\b\b\b\b\b\b\b\b\b\b\b\b\b\b\b\b\b\b\b\b\b\b\b\b\b\b\b\b\b\b\b\b\b\b\b\b\b\b\b\b\b\b\b\b\b\b\b\b\b\b\b\b\b\b\b\b\b\b\b\b\b\r31/31 [==============================] - 10s 332ms/step - loss: 0.1145 - lr: 0.0010\n",
            "Epoch 12/50\n",
            "31/31 [==============================] - ETA: 0s - loss: 0.1129"
          ]
        },
        {
          "output_type": "stream",
          "name": "stderr",
          "text": [
            "WARNING:tensorflow:Can save best model only with val_loss available, skipping.\n"
          ]
        },
        {
          "output_type": "stream",
          "name": "stdout",
          "text": [
            "\b\b\b\b\b\b\b\b\b\b\b\b\b\b\b\b\b\b\b\b\b\b\b\b\b\b\b\b\b\b\b\b\b\b\b\b\b\b\b\b\b\b\b\b\b\b\b\b\b\b\b\b\b\b\b\b\b\b\b\b\b\b\b\r31/31 [==============================] - 7s 219ms/step - loss: 0.1129 - lr: 0.0010\n",
            "Epoch 13/50\n",
            "31/31 [==============================] - ETA: 0s - loss: 0.1107"
          ]
        },
        {
          "output_type": "stream",
          "name": "stderr",
          "text": [
            "WARNING:tensorflow:Can save best model only with val_loss available, skipping.\n"
          ]
        },
        {
          "output_type": "stream",
          "name": "stdout",
          "text": [
            "\b\b\b\b\b\b\b\b\b\b\b\b\b\b\b\b\b\b\b\b\b\b\b\b\b\b\b\b\b\b\b\b\b\b\b\b\b\b\b\b\b\b\b\b\b\b\b\b\b\b\b\b\b\b\b\b\b\b\b\b\b\b\b\r31/31 [==============================] - 10s 316ms/step - loss: 0.1107 - lr: 0.0010\n",
            "Epoch 14/50\n",
            "31/31 [==============================] - ETA: 0s - loss: 0.1046"
          ]
        },
        {
          "output_type": "stream",
          "name": "stderr",
          "text": [
            "WARNING:tensorflow:Can save best model only with val_loss available, skipping.\n"
          ]
        },
        {
          "output_type": "stream",
          "name": "stdout",
          "text": [
            "\b\b\b\b\b\b\b\b\b\b\b\b\b\b\b\b\b\b\b\b\b\b\b\b\b\b\b\b\b\b\b\b\b\b\b\b\b\b\b\b\b\b\b\b\b\b\b\b\b\b\b\b\b\b\b\b\b\b\b\b\b\b\b\r31/31 [==============================] - 7s 222ms/step - loss: 0.1046 - lr: 0.0010\n",
            "Epoch 15/50\n",
            "31/31 [==============================] - ETA: 0s - loss: 0.1076"
          ]
        },
        {
          "output_type": "stream",
          "name": "stderr",
          "text": [
            "WARNING:tensorflow:Can save best model only with val_loss available, skipping.\n"
          ]
        },
        {
          "output_type": "stream",
          "name": "stdout",
          "text": [
            "\b\b\b\b\b\b\b\b\b\b\b\b\b\b\b\b\b\b\b\b\b\b\b\b\b\b\b\b\b\b\b\b\b\b\b\b\b\b\b\b\b\b\b\b\b\b\b\b\b\b\b\b\b\b\b\b\b\b\b\b\b\b\b\r31/31 [==============================] - 10s 322ms/step - loss: 0.1076 - lr: 0.0010\n",
            "Epoch 16/50\n",
            "31/31 [==============================] - ETA: 0s - loss: 0.0987"
          ]
        },
        {
          "output_type": "stream",
          "name": "stderr",
          "text": [
            "WARNING:tensorflow:Can save best model only with val_loss available, skipping.\n"
          ]
        },
        {
          "output_type": "stream",
          "name": "stdout",
          "text": [
            "\b\b\b\b\b\b\b\b\b\b\b\b\b\b\b\b\b\b\b\b\b\b\b\b\b\b\b\b\b\b\b\b\b\b\b\b\b\b\b\b\b\b\b\b\b\b\b\b\b\b\b\b\b\b\b\b\b\b\b\b\b\b\b\r31/31 [==============================] - 7s 220ms/step - loss: 0.0987 - lr: 0.0010\n",
            "Epoch 17/50\n",
            "31/31 [==============================] - ETA: 0s - loss: 0.0950"
          ]
        },
        {
          "output_type": "stream",
          "name": "stderr",
          "text": [
            "WARNING:tensorflow:Can save best model only with val_loss available, skipping.\n"
          ]
        },
        {
          "output_type": "stream",
          "name": "stdout",
          "text": [
            "\b\b\b\b\b\b\b\b\b\b\b\b\b\b\b\b\b\b\b\b\b\b\b\b\b\b\b\b\b\b\b\b\b\b\b\b\b\b\b\b\b\b\b\b\b\b\b\b\b\b\b\b\b\b\b\b\b\b\b\b\b\b\b\r31/31 [==============================] - 10s 316ms/step - loss: 0.0950 - lr: 0.0010\n",
            "Epoch 18/50\n",
            "31/31 [==============================] - ETA: 0s - loss: 0.0935"
          ]
        },
        {
          "output_type": "stream",
          "name": "stderr",
          "text": [
            "WARNING:tensorflow:Can save best model only with val_loss available, skipping.\n"
          ]
        },
        {
          "output_type": "stream",
          "name": "stdout",
          "text": [
            "\b\b\b\b\b\b\b\b\b\b\b\b\b\b\b\b\b\b\b\b\b\b\b\b\b\b\b\b\b\b\b\b\b\b\b\b\b\b\b\b\b\b\b\b\b\b\b\b\b\b\b\b\b\b\b\b\b\b\b\b\b\b\b\r31/31 [==============================] - 7s 238ms/step - loss: 0.0935 - lr: 0.0010\n",
            "Epoch 19/50\n",
            "31/31 [==============================] - ETA: 0s - loss: 0.0925"
          ]
        },
        {
          "output_type": "stream",
          "name": "stderr",
          "text": [
            "WARNING:tensorflow:Can save best model only with val_loss available, skipping.\n"
          ]
        },
        {
          "output_type": "stream",
          "name": "stdout",
          "text": [
            "\b\b\b\b\b\b\b\b\b\b\b\b\b\b\b\b\b\b\b\b\b\b\b\b\b\b\b\b\b\b\b\b\b\b\b\b\b\b\b\b\b\b\b\b\b\b\b\b\b\b\b\b\b\b\b\b\b\b\b\b\b\b\b\r31/31 [==============================] - 9s 297ms/step - loss: 0.0925 - lr: 0.0010\n",
            "Epoch 20/50\n",
            "31/31 [==============================] - ETA: 0s - loss: 0.0908"
          ]
        },
        {
          "output_type": "stream",
          "name": "stderr",
          "text": [
            "WARNING:tensorflow:Can save best model only with val_loss available, skipping.\n"
          ]
        },
        {
          "output_type": "stream",
          "name": "stdout",
          "text": [
            "\b\b\b\b\b\b\b\b\b\b\b\b\b\b\b\b\b\b\b\b\b\b\b\b\b\b\b\b\b\b\b\b\b\b\b\b\b\b\b\b\b\b\b\b\b\b\b\b\b\b\b\b\b\b\b\b\b\b\b\b\b\b\b\r31/31 [==============================] - 7s 240ms/step - loss: 0.0908 - lr: 0.0010\n",
            "Epoch 21/50\n",
            "31/31 [==============================] - ETA: 0s - loss: 0.0892"
          ]
        },
        {
          "output_type": "stream",
          "name": "stderr",
          "text": [
            "WARNING:tensorflow:Can save best model only with val_loss available, skipping.\n"
          ]
        },
        {
          "output_type": "stream",
          "name": "stdout",
          "text": [
            "\b\b\b\b\b\b\b\b\b\b\b\b\b\b\b\b\b\b\b\b\b\b\b\b\b\b\b\b\b\b\b\b\b\b\b\b\b\b\b\b\b\b\b\b\b\b\b\b\b\b\b\b\b\b\b\b\b\b\b\b\b\b\b\r31/31 [==============================] - 9s 279ms/step - loss: 0.0892 - lr: 0.0010\n",
            "Epoch 22/50\n",
            "31/31 [==============================] - ETA: 0s - loss: 0.0921"
          ]
        },
        {
          "output_type": "stream",
          "name": "stderr",
          "text": [
            "WARNING:tensorflow:Can save best model only with val_loss available, skipping.\n"
          ]
        },
        {
          "output_type": "stream",
          "name": "stdout",
          "text": [
            "\b\b\b\b\b\b\b\b\b\b\b\b\b\b\b\b\b\b\b\b\b\b\b\b\b\b\b\b\b\b\b\b\b\b\b\b\b\b\b\b\b\b\b\b\b\b\b\b\b\b\b\b\b\b\b\b\b\b\b\b\b\b\b\r31/31 [==============================] - 8s 275ms/step - loss: 0.0921 - lr: 0.0010\n",
            "Epoch 23/50\n",
            "31/31 [==============================] - ETA: 0s - loss: 0.0933"
          ]
        },
        {
          "output_type": "stream",
          "name": "stderr",
          "text": [
            "WARNING:tensorflow:Can save best model only with val_loss available, skipping.\n"
          ]
        },
        {
          "output_type": "stream",
          "name": "stdout",
          "text": [
            "\b\b\b\b\b\b\b\b\b\b\b\b\b\b\b\b\b\b\b\b\b\b\b\b\b\b\b\b\b\b\b\b\b\b\b\b\b\b\b\b\b\b\b\b\b\b\b\b\b\b\b\b\b\b\b\b\b\b\b\b\b\b\b\r31/31 [==============================] - 8s 267ms/step - loss: 0.0933 - lr: 0.0010\n",
            "Epoch 24/50\n",
            "31/31 [==============================] - ETA: 0s - loss: 0.0885"
          ]
        },
        {
          "output_type": "stream",
          "name": "stderr",
          "text": [
            "WARNING:tensorflow:Can save best model only with val_loss available, skipping.\n"
          ]
        },
        {
          "output_type": "stream",
          "name": "stdout",
          "text": [
            "\b\b\b\b\b\b\b\b\b\b\b\b\b\b\b\b\b\b\b\b\b\b\b\b\b\b\b\b\b\b\b\b\b\b\b\b\b\b\b\b\b\b\b\b\b\b\b\b\b\b\b\b\b\b\b\b\b\b\b\b\b\b\b\r31/31 [==============================] - 9s 291ms/step - loss: 0.0885 - lr: 0.0010\n",
            "Epoch 25/50\n",
            "31/31 [==============================] - ETA: 0s - loss: 0.0858"
          ]
        },
        {
          "output_type": "stream",
          "name": "stderr",
          "text": [
            "WARNING:tensorflow:Can save best model only with val_loss available, skipping.\n"
          ]
        },
        {
          "output_type": "stream",
          "name": "stdout",
          "text": [
            "\b\b\b\b\b\b\b\b\b\b\b\b\b\b\b\b\b\b\b\b\b\b\b\b\b\b\b\b\b\b\b\b\b\b\b\b\b\b\b\b\b\b\b\b\b\b\b\b\b\b\b\b\b\b\b\b\b\b\b\b\b\b\b\r31/31 [==============================] - 8s 240ms/step - loss: 0.0858 - lr: 0.0010\n",
            "Epoch 26/50\n",
            "31/31 [==============================] - ETA: 0s - loss: 0.0863"
          ]
        },
        {
          "output_type": "stream",
          "name": "stderr",
          "text": [
            "WARNING:tensorflow:Can save best model only with val_loss available, skipping.\n"
          ]
        },
        {
          "output_type": "stream",
          "name": "stdout",
          "text": [
            "\b\b\b\b\b\b\b\b\b\b\b\b\b\b\b\b\b\b\b\b\b\b\b\b\b\b\b\b\b\b\b\b\b\b\b\b\b\b\b\b\b\b\b\b\b\b\b\b\b\b\b\b\b\b\b\b\b\b\b\b\b\b\b\r31/31 [==============================] - 9s 305ms/step - loss: 0.0863 - lr: 0.0010\n",
            "Epoch 27/50\n",
            "31/31 [==============================] - ETA: 0s - loss: 0.0865"
          ]
        },
        {
          "output_type": "stream",
          "name": "stderr",
          "text": [
            "WARNING:tensorflow:Can save best model only with val_loss available, skipping.\n"
          ]
        },
        {
          "output_type": "stream",
          "name": "stdout",
          "text": [
            "\b\b\b\b\b\b\b\b\b\b\b\b\b\b\b\b\b\b\b\b\b\b\b\b\b\b\b\b\b\b\b\b\b\b\b\b\b\b\b\b\b\b\b\b\b\b\b\b\b\b\b\b\b\b\b\b\b\b\b\b\b\b\b\r31/31 [==============================] - 7s 227ms/step - loss: 0.0865 - lr: 0.0010\n",
            "Epoch 28/50\n",
            "31/31 [==============================] - ETA: 0s - loss: 0.0868"
          ]
        },
        {
          "output_type": "stream",
          "name": "stderr",
          "text": [
            "WARNING:tensorflow:Can save best model only with val_loss available, skipping.\n"
          ]
        },
        {
          "output_type": "stream",
          "name": "stdout",
          "text": [
            "\b\b\b\b\b\b\b\b\b\b\b\b\b\b\b\b\b\b\b\b\b\b\b\b\b\b\b\b\b\b\b\b\b\b\b\b\b\b\b\b\b\b\b\b\b\b\b\b\b\b\b\b\b\b\b\b\b\b\b\b\b\b\b\r31/31 [==============================] - 10s 327ms/step - loss: 0.0868 - lr: 0.0010\n",
            "Epoch 29/50\n",
            "31/31 [==============================] - ETA: 0s - loss: 0.0836"
          ]
        },
        {
          "output_type": "stream",
          "name": "stderr",
          "text": [
            "WARNING:tensorflow:Can save best model only with val_loss available, skipping.\n"
          ]
        },
        {
          "output_type": "stream",
          "name": "stdout",
          "text": [
            "\b\b\b\b\b\b\b\b\b\b\b\b\b\b\b\b\b\b\b\b\b\b\b\b\b\b\b\b\b\b\b\b\b\b\b\b\b\b\b\b\b\b\b\b\b\b\b\b\b\b\b\b\b\b\b\b\b\b\b\b\b\b\b\r31/31 [==============================] - 7s 227ms/step - loss: 0.0836 - lr: 0.0010\n",
            "Epoch 30/50\n",
            "31/31 [==============================] - ETA: 0s - loss: 0.0849"
          ]
        },
        {
          "output_type": "stream",
          "name": "stderr",
          "text": [
            "WARNING:tensorflow:Can save best model only with val_loss available, skipping.\n"
          ]
        },
        {
          "output_type": "stream",
          "name": "stdout",
          "text": [
            "\b\b\b\b\b\b\b\b\b\b\b\b\b\b\b\b\b\b\b\b\b\b\b\b\b\b\b\b\b\b\b\b\b\b\b\b\b\b\b\b\b\b\b\b\b\b\b\b\b\b\b\b\b\b\b\b\b\b\b\b\b\b\b\r31/31 [==============================] - 10s 314ms/step - loss: 0.0849 - lr: 0.0010\n",
            "Epoch 31/50\n",
            "31/31 [==============================] - ETA: 0s - loss: 0.0834"
          ]
        },
        {
          "output_type": "stream",
          "name": "stderr",
          "text": [
            "WARNING:tensorflow:Can save best model only with val_loss available, skipping.\n"
          ]
        },
        {
          "output_type": "stream",
          "name": "stdout",
          "text": [
            "\b\b\b\b\b\b\b\b\b\b\b\b\b\b\b\b\b\b\b\b\b\b\b\b\b\b\b\b\b\b\b\b\b\b\b\b\b\b\b\b\b\b\b\b\b\b\b\b\b\b\b\b\b\b\b\b\b\b\b\b\b\b\b\r31/31 [==============================] - 7s 227ms/step - loss: 0.0834 - lr: 0.0010\n",
            "Epoch 32/50\n",
            "31/31 [==============================] - ETA: 0s - loss: 0.0847"
          ]
        },
        {
          "output_type": "stream",
          "name": "stderr",
          "text": [
            "WARNING:tensorflow:Can save best model only with val_loss available, skipping.\n"
          ]
        },
        {
          "output_type": "stream",
          "name": "stdout",
          "text": [
            "\b\b\b\b\b\b\b\b\b\b\b\b\b\b\b\b\b\b\b\b\b\b\b\b\b\b\b\b\b\b\b\b\b\b\b\b\b\b\b\b\b\b\b\b\b\b\b\b\b\b\b\b\b\b\b\b\b\b\b\b\b\b\b\r31/31 [==============================] - 10s 325ms/step - loss: 0.0847 - lr: 0.0010\n",
            "Epoch 33/50\n",
            "31/31 [==============================] - ETA: 0s - loss: 0.0825"
          ]
        },
        {
          "output_type": "stream",
          "name": "stderr",
          "text": [
            "WARNING:tensorflow:Can save best model only with val_loss available, skipping.\n"
          ]
        },
        {
          "output_type": "stream",
          "name": "stdout",
          "text": [
            "\b\b\b\b\b\b\b\b\b\b\b\b\b\b\b\b\b\b\b\b\b\b\b\b\b\b\b\b\b\b\b\b\b\b\b\b\b\b\b\b\b\b\b\b\b\b\b\b\b\b\b\b\b\b\b\b\b\b\b\b\b\b\b\r31/31 [==============================] - 7s 231ms/step - loss: 0.0825 - lr: 0.0010\n",
            "Epoch 34/50\n",
            "31/31 [==============================] - ETA: 0s - loss: 0.0824"
          ]
        },
        {
          "output_type": "stream",
          "name": "stderr",
          "text": [
            "WARNING:tensorflow:Can save best model only with val_loss available, skipping.\n"
          ]
        },
        {
          "output_type": "stream",
          "name": "stdout",
          "text": [
            "\b\b\b\b\b\b\b\b\b\b\b\b\b\b\b\b\b\b\b\b\b\b\b\b\b\b\b\b\b\b\b\b\b\b\b\b\b\b\b\b\b\b\b\b\b\b\b\b\b\b\b\b\b\b\b\b\b\b\b\b\b\b\b\r31/31 [==============================] - 10s 315ms/step - loss: 0.0824 - lr: 0.0010\n",
            "Epoch 35/50\n",
            "31/31 [==============================] - ETA: 0s - loss: 0.0811"
          ]
        },
        {
          "output_type": "stream",
          "name": "stderr",
          "text": [
            "WARNING:tensorflow:Can save best model only with val_loss available, skipping.\n"
          ]
        },
        {
          "output_type": "stream",
          "name": "stdout",
          "text": [
            "\b\b\b\b\b\b\b\b\b\b\b\b\b\b\b\b\b\b\b\b\b\b\b\b\b\b\b\b\b\b\b\b\b\b\b\b\b\b\b\b\b\b\b\b\b\b\b\b\b\b\b\b\b\b\b\b\b\b\b\b\b\b\b\r31/31 [==============================] - 7s 231ms/step - loss: 0.0811 - lr: 0.0010\n",
            "Epoch 36/50\n",
            "31/31 [==============================] - ETA: 0s - loss: 0.0802"
          ]
        },
        {
          "output_type": "stream",
          "name": "stderr",
          "text": [
            "WARNING:tensorflow:Can save best model only with val_loss available, skipping.\n"
          ]
        },
        {
          "output_type": "stream",
          "name": "stdout",
          "text": [
            "\b\b\b\b\b\b\b\b\b\b\b\b\b\b\b\b\b\b\b\b\b\b\b\b\b\b\b\b\b\b\b\b\b\b\b\b\b\b\b\b\b\b\b\b\b\b\b\b\b\b\b\b\b\b\b\b\b\b\b\b\b\b\b\r31/31 [==============================] - 10s 306ms/step - loss: 0.0802 - lr: 0.0010\n",
            "Epoch 37/50\n",
            "31/31 [==============================] - ETA: 0s - loss: 0.0799"
          ]
        },
        {
          "output_type": "stream",
          "name": "stderr",
          "text": [
            "WARNING:tensorflow:Can save best model only with val_loss available, skipping.\n"
          ]
        },
        {
          "output_type": "stream",
          "name": "stdout",
          "text": [
            "\b\b\b\b\b\b\b\b\b\b\b\b\b\b\b\b\b\b\b\b\b\b\b\b\b\b\b\b\b\b\b\b\b\b\b\b\b\b\b\b\b\b\b\b\b\b\b\b\b\b\b\b\b\b\b\b\b\b\b\b\b\b\b\r31/31 [==============================] - 8s 258ms/step - loss: 0.0799 - lr: 0.0010\n",
            "Epoch 38/50\n",
            "31/31 [==============================] - ETA: 0s - loss: 0.0797"
          ]
        },
        {
          "output_type": "stream",
          "name": "stderr",
          "text": [
            "WARNING:tensorflow:Can save best model only with val_loss available, skipping.\n"
          ]
        },
        {
          "output_type": "stream",
          "name": "stdout",
          "text": [
            "\b\b\b\b\b\b\b\b\b\b\b\b\b\b\b\b\b\b\b\b\b\b\b\b\b\b\b\b\b\b\b\b\b\b\b\b\b\b\b\b\b\b\b\b\b\b\b\b\b\b\b\b\b\b\b\b\b\b\b\b\b\b\b\r31/31 [==============================] - 9s 281ms/step - loss: 0.0797 - lr: 0.0010\n",
            "Epoch 39/50\n",
            "31/31 [==============================] - ETA: 0s - loss: 0.0802"
          ]
        },
        {
          "output_type": "stream",
          "name": "stderr",
          "text": [
            "WARNING:tensorflow:Can save best model only with val_loss available, skipping.\n"
          ]
        },
        {
          "output_type": "stream",
          "name": "stdout",
          "text": [
            "\b\b\b\b\b\b\b\b\b\b\b\b\b\b\b\b\b\b\b\b\b\b\b\b\b\b\b\b\b\b\b\b\b\b\b\b\b\b\b\b\b\b\b\b\b\b\b\b\b\b\b\b\b\b\b\b\b\b\b\b\b\b\b\r31/31 [==============================] - 9s 291ms/step - loss: 0.0802 - lr: 0.0010\n",
            "Epoch 40/50\n",
            "31/31 [==============================] - ETA: 0s - loss: 0.0785"
          ]
        },
        {
          "output_type": "stream",
          "name": "stderr",
          "text": [
            "WARNING:tensorflow:Can save best model only with val_loss available, skipping.\n"
          ]
        },
        {
          "output_type": "stream",
          "name": "stdout",
          "text": [
            "\b\b\b\b\b\b\b\b\b\b\b\b\b\b\b\b\b\b\b\b\b\b\b\b\b\b\b\b\b\b\b\b\b\b\b\b\b\b\b\b\b\b\b\b\b\b\b\b\b\b\b\b\b\b\b\b\b\b\b\b\b\b\b\r31/31 [==============================] - 8s 251ms/step - loss: 0.0785 - lr: 0.0010\n",
            "Epoch 41/50\n",
            "31/31 [==============================] - ETA: 0s - loss: 0.0792"
          ]
        },
        {
          "output_type": "stream",
          "name": "stderr",
          "text": [
            "WARNING:tensorflow:Can save best model only with val_loss available, skipping.\n"
          ]
        },
        {
          "output_type": "stream",
          "name": "stdout",
          "text": [
            "\b\b\b\b\b\b\b\b\b\b\b\b\b\b\b\b\b\b\b\b\b\b\b\b\b\b\b\b\b\b\b\b\b\b\b\b\b\b\b\b\b\b\b\b\b\b\b\b\b\b\b\b\b\b\b\b\b\b\b\b\b\b\b\r31/31 [==============================] - 10s 321ms/step - loss: 0.0792 - lr: 0.0010\n",
            "Epoch 42/50\n",
            "31/31 [==============================] - ETA: 0s - loss: 0.0776"
          ]
        },
        {
          "output_type": "stream",
          "name": "stderr",
          "text": [
            "WARNING:tensorflow:Can save best model only with val_loss available, skipping.\n"
          ]
        },
        {
          "output_type": "stream",
          "name": "stdout",
          "text": [
            "\b\b\b\b\b\b\b\b\b\b\b\b\b\b\b\b\b\b\b\b\b\b\b\b\b\b\b\b\b\b\b\b\b\b\b\b\b\b\b\b\b\b\b\b\b\b\b\b\b\b\b\b\b\b\b\b\b\b\b\b\b\b\b\r31/31 [==============================] - 7s 225ms/step - loss: 0.0776 - lr: 0.0010\n",
            "Epoch 43/50\n",
            "31/31 [==============================] - ETA: 0s - loss: 0.0750"
          ]
        },
        {
          "output_type": "stream",
          "name": "stderr",
          "text": [
            "WARNING:tensorflow:Can save best model only with val_loss available, skipping.\n"
          ]
        },
        {
          "output_type": "stream",
          "name": "stdout",
          "text": [
            "\b\b\b\b\b\b\b\b\b\b\b\b\b\b\b\b\b\b\b\b\b\b\b\b\b\b\b\b\b\b\b\b\b\b\b\b\b\b\b\b\b\b\b\b\b\b\b\b\b\b\b\b\b\b\b\b\b\b\b\b\b\b\b\r31/31 [==============================] - 13s 423ms/step - loss: 0.0750 - lr: 0.0010\n",
            "Epoch 44/50\n",
            "31/31 [==============================] - ETA: 0s - loss: 0.0785"
          ]
        },
        {
          "output_type": "stream",
          "name": "stderr",
          "text": [
            "WARNING:tensorflow:Can save best model only with val_loss available, skipping.\n"
          ]
        },
        {
          "output_type": "stream",
          "name": "stdout",
          "text": [
            "\b\b\b\b\b\b\b\b\b\b\b\b\b\b\b\b\b\b\b\b\b\b\b\b\b\b\b\b\b\b\b\b\b\b\b\b\b\b\b\b\b\b\b\b\b\b\b\b\b\b\b\b\b\b\b\b\b\b\b\b\b\b\b\r31/31 [==============================] - 7s 225ms/step - loss: 0.0785 - lr: 0.0010\n",
            "Epoch 45/50\n",
            "31/31 [==============================] - ETA: 0s - loss: 0.0763"
          ]
        },
        {
          "output_type": "stream",
          "name": "stderr",
          "text": [
            "WARNING:tensorflow:Can save best model only with val_loss available, skipping.\n"
          ]
        },
        {
          "output_type": "stream",
          "name": "stdout",
          "text": [
            "\b\b\b\b\b\b\b\b\b\b\b\b\b\b\b\b\b\b\b\b\b\b\b\b\b\b\b\b\b\b\b\b\b\b\b\b\b\b\b\b\b\b\b\b\b\b\b\b\b\b\b\b\b\b\b\b\b\b\b\b\b\b\b\r31/31 [==============================] - 9s 307ms/step - loss: 0.0763 - lr: 0.0010\n",
            "Epoch 46/50\n",
            "31/31 [==============================] - ETA: 0s - loss: 0.0788"
          ]
        },
        {
          "output_type": "stream",
          "name": "stderr",
          "text": [
            "WARNING:tensorflow:Can save best model only with val_loss available, skipping.\n"
          ]
        },
        {
          "output_type": "stream",
          "name": "stdout",
          "text": [
            "\b\b\b\b\b\b\b\b\b\b\b\b\b\b\b\b\b\b\b\b\b\b\b\b\b\b\b\b\b\b\b\b\b\b\b\b\b\b\b\b\b\b\b\b\b\b\b\b\b\b\b\b\b\b\b\b\b\b\b\b\b\b\b\r31/31 [==============================] - 7s 224ms/step - loss: 0.0788 - lr: 0.0010\n",
            "Epoch 47/50\n",
            "31/31 [==============================] - ETA: 0s - loss: 0.0782"
          ]
        },
        {
          "output_type": "stream",
          "name": "stderr",
          "text": [
            "WARNING:tensorflow:Can save best model only with val_loss available, skipping.\n"
          ]
        },
        {
          "output_type": "stream",
          "name": "stdout",
          "text": [
            "\b\b\b\b\b\b\b\b\b\b\b\b\b\b\b\b\b\b\b\b\b\b\b\b\b\b\b\b\b\b\b\b\b\b\b\b\b\b\b\b\b\b\b\b\b\b\b\b\b\b\b\b\b\b\b\b\b\b\b\b\b\b\b\r31/31 [==============================] - 10s 315ms/step - loss: 0.0782 - lr: 0.0010\n",
            "Epoch 48/50\n",
            "31/31 [==============================] - ETA: 0s - loss: 0.0784"
          ]
        },
        {
          "output_type": "stream",
          "name": "stderr",
          "text": [
            "WARNING:tensorflow:Can save best model only with val_loss available, skipping.\n"
          ]
        },
        {
          "output_type": "stream",
          "name": "stdout",
          "text": [
            "\b\b\b\b\b\b\b\b\b\b\b\b\b\b\b\b\b\b\b\b\b\b\b\b\b\b\b\b\b\b\b\b\b\b\b\b\b\b\b\b\b\b\b\b\b\b\b\b\b\b\b\b\b\b\b\b\b\b\b\b\b\b\b\r31/31 [==============================] - 7s 226ms/step - loss: 0.0784 - lr: 0.0010\n",
            "Epoch 49/50\n",
            "31/31 [==============================] - ETA: 0s - loss: 0.0736"
          ]
        },
        {
          "output_type": "stream",
          "name": "stderr",
          "text": [
            "WARNING:tensorflow:Can save best model only with val_loss available, skipping.\n"
          ]
        },
        {
          "output_type": "stream",
          "name": "stdout",
          "text": [
            "\b\b\b\b\b\b\b\b\b\b\b\b\b\b\b\b\b\b\b\b\b\b\b\b\b\b\b\b\b\b\b\b\b\b\b\b\b\b\b\b\b\b\b\b\b\b\b\b\b\b\b\b\b\b\b\b\b\b\b\b\b\b\b\r31/31 [==============================] - 10s 322ms/step - loss: 0.0736 - lr: 0.0010\n",
            "Epoch 50/50\n",
            "31/31 [==============================] - ETA: 0s - loss: 0.0722"
          ]
        },
        {
          "output_type": "stream",
          "name": "stderr",
          "text": [
            "WARNING:tensorflow:Can save best model only with val_loss available, skipping.\n"
          ]
        },
        {
          "output_type": "stream",
          "name": "stdout",
          "text": [
            "\b\b\b\b\b\b\b\b\b\b\b\b\b\b\b\b\b\b\b\b\b\b\b\b\b\b\b\b\b\b\b\b\b\b\b\b\b\b\b\b\b\b\b\b\b\b\b\b\b\b\b\b\b\b\b\b\b\b\b\b\b\b\b\r31/31 [==============================] - 7s 230ms/step - loss: 0.0722 - lr: 0.0010\n"
          ]
        }
      ]
    },
    {
      "cell_type": "code",
      "source": [
        "eth_model, eth_history = build_and_train_multistep_model(eth_x_train, eth_y_train, n_steps_out, 50, 32)"
      ],
      "metadata": {
        "colab": {
          "base_uri": "https://localhost:8080/"
        },
        "id": "peICRhBHdHoZ",
        "outputId": "0e756a3a-80f6-4567-9657-9b9adf24ce79"
      },
      "execution_count": 34,
      "outputs": [
        {
          "output_type": "stream",
          "name": "stdout",
          "text": [
            "Epoch 1/50\n",
            "31/31 [==============================] - ETA: 0s - loss: 0.1941"
          ]
        },
        {
          "output_type": "stream",
          "name": "stderr",
          "text": [
            "WARNING:tensorflow:Can save best model only with val_loss available, skipping.\n"
          ]
        },
        {
          "output_type": "stream",
          "name": "stdout",
          "text": [
            "\b\b\b\b\b\b\b\b\b\b\b\b\b\b\b\b\b\b\b\b\b\b\b\b\b\b\b\b\b\b\b\b\b\b\b\b\b\b\b\b\b\b\b\b\b\b\b\b\b\b\b\b\b\b\b\b\b\b\b\b\b\b\b\r31/31 [==============================] - 18s 223ms/step - loss: 0.1941 - lr: 0.0010\n",
            "Epoch 2/50\n",
            "31/31 [==============================] - ETA: 0s - loss: 0.1339"
          ]
        },
        {
          "output_type": "stream",
          "name": "stderr",
          "text": [
            "WARNING:tensorflow:Can save best model only with val_loss available, skipping.\n"
          ]
        },
        {
          "output_type": "stream",
          "name": "stdout",
          "text": [
            "\b\b\b\b\b\b\b\b\b\b\b\b\b\b\b\b\b\b\b\b\b\b\b\b\b\b\b\b\b\b\b\b\b\b\b\b\b\b\b\b\b\b\b\b\b\b\b\b\b\b\b\b\b\b\b\b\b\b\b\b\b\b\b\r31/31 [==============================] - 10s 317ms/step - loss: 0.1339 - lr: 0.0010\n",
            "Epoch 3/50\n",
            "31/31 [==============================] - ETA: 0s - loss: 0.1170"
          ]
        },
        {
          "output_type": "stream",
          "name": "stderr",
          "text": [
            "WARNING:tensorflow:Can save best model only with val_loss available, skipping.\n"
          ]
        },
        {
          "output_type": "stream",
          "name": "stdout",
          "text": [
            "\b\b\b\b\b\b\b\b\b\b\b\b\b\b\b\b\b\b\b\b\b\b\b\b\b\b\b\b\b\b\b\b\b\b\b\b\b\b\b\b\b\b\b\b\b\b\b\b\b\b\b\b\b\b\b\b\b\b\b\b\b\b\b\r31/31 [==============================] - 7s 230ms/step - loss: 0.1170 - lr: 0.0010\n",
            "Epoch 4/50\n",
            "31/31 [==============================] - ETA: 0s - loss: 0.1070"
          ]
        },
        {
          "output_type": "stream",
          "name": "stderr",
          "text": [
            "WARNING:tensorflow:Can save best model only with val_loss available, skipping.\n"
          ]
        },
        {
          "output_type": "stream",
          "name": "stdout",
          "text": [
            "\b\b\b\b\b\b\b\b\b\b\b\b\b\b\b\b\b\b\b\b\b\b\b\b\b\b\b\b\b\b\b\b\b\b\b\b\b\b\b\b\b\b\b\b\b\b\b\b\b\b\b\b\b\b\b\b\b\b\b\b\b\b\b\r31/31 [==============================] - 10s 312ms/step - loss: 0.1070 - lr: 0.0010\n",
            "Epoch 5/50\n",
            "31/31 [==============================] - ETA: 0s - loss: 0.1051"
          ]
        },
        {
          "output_type": "stream",
          "name": "stderr",
          "text": [
            "WARNING:tensorflow:Can save best model only with val_loss available, skipping.\n"
          ]
        },
        {
          "output_type": "stream",
          "name": "stdout",
          "text": [
            "\b\b\b\b\b\b\b\b\b\b\b\b\b\b\b\b\b\b\b\b\b\b\b\b\b\b\b\b\b\b\b\b\b\b\b\b\b\b\b\b\b\b\b\b\b\b\b\b\b\b\b\b\b\b\b\b\b\b\b\b\b\b\b\r31/31 [==============================] - 11s 358ms/step - loss: 0.1051 - lr: 0.0010\n",
            "Epoch 6/50\n",
            "31/31 [==============================] - ETA: 0s - loss: 0.1025"
          ]
        },
        {
          "output_type": "stream",
          "name": "stderr",
          "text": [
            "WARNING:tensorflow:Can save best model only with val_loss available, skipping.\n"
          ]
        },
        {
          "output_type": "stream",
          "name": "stdout",
          "text": [
            "\b\b\b\b\b\b\b\b\b\b\b\b\b\b\b\b\b\b\b\b\b\b\b\b\b\b\b\b\b\b\b\b\b\b\b\b\b\b\b\b\b\b\b\b\b\b\b\b\b\b\b\b\b\b\b\b\b\b\b\b\b\b\b\r31/31 [==============================] - 8s 267ms/step - loss: 0.1025 - lr: 0.0010\n",
            "Epoch 7/50\n",
            "31/31 [==============================] - ETA: 0s - loss: 0.1028"
          ]
        },
        {
          "output_type": "stream",
          "name": "stderr",
          "text": [
            "WARNING:tensorflow:Can save best model only with val_loss available, skipping.\n"
          ]
        },
        {
          "output_type": "stream",
          "name": "stdout",
          "text": [
            "\b\b\b\b\b\b\b\b\b\b\b\b\b\b\b\b\b\b\b\b\b\b\b\b\b\b\b\b\b\b\b\b\b\b\b\b\b\b\b\b\b\b\b\b\b\b\b\b\b\b\b\b\b\b\b\b\b\b\b\b\b\b\b\r31/31 [==============================] - 9s 293ms/step - loss: 0.1028 - lr: 0.0010\n",
            "Epoch 8/50\n",
            "31/31 [==============================] - ETA: 0s - loss: 0.1049"
          ]
        },
        {
          "output_type": "stream",
          "name": "stderr",
          "text": [
            "WARNING:tensorflow:Can save best model only with val_loss available, skipping.\n"
          ]
        },
        {
          "output_type": "stream",
          "name": "stdout",
          "text": [
            "\b\b\b\b\b\b\b\b\b\b\b\b\b\b\b\b\b\b\b\b\b\b\b\b\b\b\b\b\b\b\b\b\b\b\b\b\b\b\b\b\b\b\b\b\b\b\b\b\b\b\b\b\b\b\b\b\b\b\b\b\b\b\b\r31/31 [==============================] - 8s 240ms/step - loss: 0.1049 - lr: 0.0010\n",
            "Epoch 9/50\n",
            "31/31 [==============================] - ETA: 0s - loss: 0.0971"
          ]
        },
        {
          "output_type": "stream",
          "name": "stderr",
          "text": [
            "WARNING:tensorflow:Can save best model only with val_loss available, skipping.\n"
          ]
        },
        {
          "output_type": "stream",
          "name": "stdout",
          "text": [
            "\b\b\b\b\b\b\b\b\b\b\b\b\b\b\b\b\b\b\b\b\b\b\b\b\b\b\b\b\b\b\b\b\b\b\b\b\b\b\b\b\b\b\b\b\b\b\b\b\b\b\b\b\b\b\b\b\b\b\b\b\b\b\b\r31/31 [==============================] - 9s 295ms/step - loss: 0.0971 - lr: 0.0010\n",
            "Epoch 10/50\n",
            "31/31 [==============================] - ETA: 0s - loss: 0.0978"
          ]
        },
        {
          "output_type": "stream",
          "name": "stderr",
          "text": [
            "WARNING:tensorflow:Can save best model only with val_loss available, skipping.\n"
          ]
        },
        {
          "output_type": "stream",
          "name": "stdout",
          "text": [
            "\b\b\b\b\b\b\b\b\b\b\b\b\b\b\b\b\b\b\b\b\b\b\b\b\b\b\b\b\b\b\b\b\b\b\b\b\b\b\b\b\b\b\b\b\b\b\b\b\b\b\b\b\b\b\b\b\b\b\b\b\b\b\b\r31/31 [==============================] - 7s 226ms/step - loss: 0.0978 - lr: 0.0010\n",
            "Epoch 11/50\n",
            "31/31 [==============================] - ETA: 0s - loss: 0.0954"
          ]
        },
        {
          "output_type": "stream",
          "name": "stderr",
          "text": [
            "WARNING:tensorflow:Can save best model only with val_loss available, skipping.\n"
          ]
        },
        {
          "output_type": "stream",
          "name": "stdout",
          "text": [
            "\b\b\b\b\b\b\b\b\b\b\b\b\b\b\b\b\b\b\b\b\b\b\b\b\b\b\b\b\b\b\b\b\b\b\b\b\b\b\b\b\b\b\b\b\b\b\b\b\b\b\b\b\b\b\b\b\b\b\b\b\b\b\b\r31/31 [==============================] - 10s 319ms/step - loss: 0.0954 - lr: 0.0010\n",
            "Epoch 12/50\n",
            "31/31 [==============================] - ETA: 0s - loss: 0.0953"
          ]
        },
        {
          "output_type": "stream",
          "name": "stderr",
          "text": [
            "WARNING:tensorflow:Can save best model only with val_loss available, skipping.\n"
          ]
        },
        {
          "output_type": "stream",
          "name": "stdout",
          "text": [
            "\b\b\b\b\b\b\b\b\b\b\b\b\b\b\b\b\b\b\b\b\b\b\b\b\b\b\b\b\b\b\b\b\b\b\b\b\b\b\b\b\b\b\b\b\b\b\b\b\b\b\b\b\b\b\b\b\b\b\b\b\b\b\b\r31/31 [==============================] - 7s 220ms/step - loss: 0.0953 - lr: 0.0010\n",
            "Epoch 13/50\n",
            "31/31 [==============================] - ETA: 0s - loss: 0.0962"
          ]
        },
        {
          "output_type": "stream",
          "name": "stderr",
          "text": [
            "WARNING:tensorflow:Can save best model only with val_loss available, skipping.\n"
          ]
        },
        {
          "output_type": "stream",
          "name": "stdout",
          "text": [
            "\b\b\b\b\b\b\b\b\b\b\b\b\b\b\b\b\b\b\b\b\b\b\b\b\b\b\b\b\b\b\b\b\b\b\b\b\b\b\b\b\b\b\b\b\b\b\b\b\b\b\b\b\b\b\b\b\b\b\b\b\b\b\b\r31/31 [==============================] - 10s 321ms/step - loss: 0.0962 - lr: 0.0010\n",
            "Epoch 14/50\n",
            "31/31 [==============================] - ETA: 0s - loss: 0.0944"
          ]
        },
        {
          "output_type": "stream",
          "name": "stderr",
          "text": [
            "WARNING:tensorflow:Can save best model only with val_loss available, skipping.\n"
          ]
        },
        {
          "output_type": "stream",
          "name": "stdout",
          "text": [
            "\b\b\b\b\b\b\b\b\b\b\b\b\b\b\b\b\b\b\b\b\b\b\b\b\b\b\b\b\b\b\b\b\b\b\b\b\b\b\b\b\b\b\b\b\b\b\b\b\b\b\b\b\b\b\b\b\b\b\b\b\b\b\b\r31/31 [==============================] - 7s 222ms/step - loss: 0.0944 - lr: 0.0010\n",
            "Epoch 15/50\n",
            "31/31 [==============================] - ETA: 0s - loss: 0.0932"
          ]
        },
        {
          "output_type": "stream",
          "name": "stderr",
          "text": [
            "WARNING:tensorflow:Can save best model only with val_loss available, skipping.\n"
          ]
        },
        {
          "output_type": "stream",
          "name": "stdout",
          "text": [
            "\b\b\b\b\b\b\b\b\b\b\b\b\b\b\b\b\b\b\b\b\b\b\b\b\b\b\b\b\b\b\b\b\b\b\b\b\b\b\b\b\b\b\b\b\b\b\b\b\b\b\b\b\b\b\b\b\b\b\b\b\b\b\b\r31/31 [==============================] - 10s 318ms/step - loss: 0.0932 - lr: 0.0010\n",
            "Epoch 16/50\n",
            "31/31 [==============================] - ETA: 0s - loss: 0.0924"
          ]
        },
        {
          "output_type": "stream",
          "name": "stderr",
          "text": [
            "WARNING:tensorflow:Can save best model only with val_loss available, skipping.\n"
          ]
        },
        {
          "output_type": "stream",
          "name": "stdout",
          "text": [
            "\b\b\b\b\b\b\b\b\b\b\b\b\b\b\b\b\b\b\b\b\b\b\b\b\b\b\b\b\b\b\b\b\b\b\b\b\b\b\b\b\b\b\b\b\b\b\b\b\b\b\b\b\b\b\b\b\b\b\b\b\b\b\b\r31/31 [==============================] - 7s 227ms/step - loss: 0.0924 - lr: 0.0010\n",
            "Epoch 17/50\n",
            "31/31 [==============================] - ETA: 0s - loss: 0.0916"
          ]
        },
        {
          "output_type": "stream",
          "name": "stderr",
          "text": [
            "WARNING:tensorflow:Can save best model only with val_loss available, skipping.\n"
          ]
        },
        {
          "output_type": "stream",
          "name": "stdout",
          "text": [
            "\b\b\b\b\b\b\b\b\b\b\b\b\b\b\b\b\b\b\b\b\b\b\b\b\b\b\b\b\b\b\b\b\b\b\b\b\b\b\b\b\b\b\b\b\b\b\b\b\b\b\b\b\b\b\b\b\b\b\b\b\b\b\b\r31/31 [==============================] - 10s 317ms/step - loss: 0.0916 - lr: 0.0010\n",
            "Epoch 18/50\n",
            "31/31 [==============================] - ETA: 0s - loss: 0.0918"
          ]
        },
        {
          "output_type": "stream",
          "name": "stderr",
          "text": [
            "WARNING:tensorflow:Can save best model only with val_loss available, skipping.\n"
          ]
        },
        {
          "output_type": "stream",
          "name": "stdout",
          "text": [
            "\b\b\b\b\b\b\b\b\b\b\b\b\b\b\b\b\b\b\b\b\b\b\b\b\b\b\b\b\b\b\b\b\b\b\b\b\b\b\b\b\b\b\b\b\b\b\b\b\b\b\b\b\b\b\b\b\b\b\b\b\b\b\b\r31/31 [==============================] - 12s 399ms/step - loss: 0.0918 - lr: 0.0010\n",
            "Epoch 19/50\n",
            "31/31 [==============================] - ETA: 0s - loss: 0.0928"
          ]
        },
        {
          "output_type": "stream",
          "name": "stderr",
          "text": [
            "WARNING:tensorflow:Can save best model only with val_loss available, skipping.\n"
          ]
        },
        {
          "output_type": "stream",
          "name": "stdout",
          "text": [
            "\b\b\b\b\b\b\b\b\b\b\b\b\b\b\b\b\b\b\b\b\b\b\b\b\b\b\b\b\b\b\b\b\b\b\b\b\b\b\b\b\b\b\b\b\b\b\b\b\b\b\b\b\b\b\b\b\b\b\b\b\b\b\b\r31/31 [==============================] - 15s 494ms/step - loss: 0.0928 - lr: 0.0010\n",
            "Epoch 20/50\n",
            "31/31 [==============================] - ETA: 0s - loss: 0.0918"
          ]
        },
        {
          "output_type": "stream",
          "name": "stderr",
          "text": [
            "WARNING:tensorflow:Can save best model only with val_loss available, skipping.\n"
          ]
        },
        {
          "output_type": "stream",
          "name": "stdout",
          "text": [
            "\b\b\b\b\b\b\b\b\b\b\b\b\b\b\b\b\b\b\b\b\b\b\b\b\b\b\b\b\b\b\b\b\b\b\b\b\b\b\b\b\b\b\b\b\b\b\b\b\b\b\b\b\b\b\b\b\b\b\b\b\b\b\b\r31/31 [==============================] - 15s 490ms/step - loss: 0.0918 - lr: 0.0010\n",
            "Epoch 21/50\n",
            "31/31 [==============================] - ETA: 0s - loss: 0.0895"
          ]
        },
        {
          "output_type": "stream",
          "name": "stderr",
          "text": [
            "WARNING:tensorflow:Can save best model only with val_loss available, skipping.\n"
          ]
        },
        {
          "output_type": "stream",
          "name": "stdout",
          "text": [
            "\b\b\b\b\b\b\b\b\b\b\b\b\b\b\b\b\b\b\b\b\b\b\b\b\b\b\b\b\b\b\b\b\b\b\b\b\b\b\b\b\b\b\b\b\b\b\b\b\b\b\b\b\b\b\b\b\b\b\b\b\b\b\b\r31/31 [==============================] - 10s 315ms/step - loss: 0.0895 - lr: 0.0010\n",
            "Epoch 22/50\n",
            "31/31 [==============================] - ETA: 0s - loss: 0.0889"
          ]
        },
        {
          "output_type": "stream",
          "name": "stderr",
          "text": [
            "WARNING:tensorflow:Can save best model only with val_loss available, skipping.\n"
          ]
        },
        {
          "output_type": "stream",
          "name": "stdout",
          "text": [
            "\b\b\b\b\b\b\b\b\b\b\b\b\b\b\b\b\b\b\b\b\b\b\b\b\b\b\b\b\b\b\b\b\b\b\b\b\b\b\b\b\b\b\b\b\b\b\b\b\b\b\b\b\b\b\b\b\b\b\b\b\b\b\b\r31/31 [==============================] - 9s 308ms/step - loss: 0.0889 - lr: 0.0010\n",
            "Epoch 23/50\n",
            "31/31 [==============================] - ETA: 0s - loss: 0.0858"
          ]
        },
        {
          "output_type": "stream",
          "name": "stderr",
          "text": [
            "WARNING:tensorflow:Can save best model only with val_loss available, skipping.\n"
          ]
        },
        {
          "output_type": "stream",
          "name": "stdout",
          "text": [
            "\b\b\b\b\b\b\b\b\b\b\b\b\b\b\b\b\b\b\b\b\b\b\b\b\b\b\b\b\b\b\b\b\b\b\b\b\b\b\b\b\b\b\b\b\b\b\b\b\b\b\b\b\b\b\b\b\b\b\b\b\b\b\b\r31/31 [==============================] - 8s 243ms/step - loss: 0.0858 - lr: 0.0010\n",
            "Epoch 24/50\n",
            "31/31 [==============================] - ETA: 0s - loss: 0.0850"
          ]
        },
        {
          "output_type": "stream",
          "name": "stderr",
          "text": [
            "WARNING:tensorflow:Can save best model only with val_loss available, skipping.\n"
          ]
        },
        {
          "output_type": "stream",
          "name": "stdout",
          "text": [
            "\b\b\b\b\b\b\b\b\b\b\b\b\b\b\b\b\b\b\b\b\b\b\b\b\b\b\b\b\b\b\b\b\b\b\b\b\b\b\b\b\b\b\b\b\b\b\b\b\b\b\b\b\b\b\b\b\b\b\b\b\b\b\b\r31/31 [==============================] - 10s 315ms/step - loss: 0.0850 - lr: 0.0010\n",
            "Epoch 25/50\n",
            "31/31 [==============================] - ETA: 0s - loss: 0.0831"
          ]
        },
        {
          "output_type": "stream",
          "name": "stderr",
          "text": [
            "WARNING:tensorflow:Can save best model only with val_loss available, skipping.\n"
          ]
        },
        {
          "output_type": "stream",
          "name": "stdout",
          "text": [
            "\b\b\b\b\b\b\b\b\b\b\b\b\b\b\b\b\b\b\b\b\b\b\b\b\b\b\b\b\b\b\b\b\b\b\b\b\b\b\b\b\b\b\b\b\b\b\b\b\b\b\b\b\b\b\b\b\b\b\b\b\b\b\b\r31/31 [==============================] - 7s 228ms/step - loss: 0.0831 - lr: 0.0010\n",
            "Epoch 26/50\n",
            "31/31 [==============================] - ETA: 0s - loss: 0.0835"
          ]
        },
        {
          "output_type": "stream",
          "name": "stderr",
          "text": [
            "WARNING:tensorflow:Can save best model only with val_loss available, skipping.\n"
          ]
        },
        {
          "output_type": "stream",
          "name": "stdout",
          "text": [
            "\b\b\b\b\b\b\b\b\b\b\b\b\b\b\b\b\b\b\b\b\b\b\b\b\b\b\b\b\b\b\b\b\b\b\b\b\b\b\b\b\b\b\b\b\b\b\b\b\b\b\b\b\b\b\b\b\b\b\b\b\b\b\b\r31/31 [==============================] - 10s 314ms/step - loss: 0.0835 - lr: 0.0010\n",
            "Epoch 27/50\n",
            "31/31 [==============================] - ETA: 0s - loss: 0.0851"
          ]
        },
        {
          "output_type": "stream",
          "name": "stderr",
          "text": [
            "WARNING:tensorflow:Can save best model only with val_loss available, skipping.\n"
          ]
        },
        {
          "output_type": "stream",
          "name": "stdout",
          "text": [
            "\b\b\b\b\b\b\b\b\b\b\b\b\b\b\b\b\b\b\b\b\b\b\b\b\b\b\b\b\b\b\b\b\b\b\b\b\b\b\b\b\b\b\b\b\b\b\b\b\b\b\b\b\b\b\b\b\b\b\b\b\b\b\b\r31/31 [==============================] - 7s 223ms/step - loss: 0.0851 - lr: 0.0010\n",
            "Epoch 28/50\n",
            "31/31 [==============================] - ETA: 0s - loss: 0.0793"
          ]
        },
        {
          "output_type": "stream",
          "name": "stderr",
          "text": [
            "WARNING:tensorflow:Can save best model only with val_loss available, skipping.\n"
          ]
        },
        {
          "output_type": "stream",
          "name": "stdout",
          "text": [
            "\b\b\b\b\b\b\b\b\b\b\b\b\b\b\b\b\b\b\b\b\b\b\b\b\b\b\b\b\b\b\b\b\b\b\b\b\b\b\b\b\b\b\b\b\b\b\b\b\b\b\b\b\b\b\b\b\b\b\b\b\b\b\b\r31/31 [==============================] - 10s 319ms/step - loss: 0.0793 - lr: 0.0010\n",
            "Epoch 29/50\n",
            "31/31 [==============================] - ETA: 0s - loss: 0.0795"
          ]
        },
        {
          "output_type": "stream",
          "name": "stderr",
          "text": [
            "WARNING:tensorflow:Can save best model only with val_loss available, skipping.\n"
          ]
        },
        {
          "output_type": "stream",
          "name": "stdout",
          "text": [
            "\b\b\b\b\b\b\b\b\b\b\b\b\b\b\b\b\b\b\b\b\b\b\b\b\b\b\b\b\b\b\b\b\b\b\b\b\b\b\b\b\b\b\b\b\b\b\b\b\b\b\b\b\b\b\b\b\b\b\b\b\b\b\b\r31/31 [==============================] - 7s 226ms/step - loss: 0.0795 - lr: 0.0010\n",
            "Epoch 30/50\n",
            "31/31 [==============================] - ETA: 0s - loss: 0.0821"
          ]
        },
        {
          "output_type": "stream",
          "name": "stderr",
          "text": [
            "WARNING:tensorflow:Can save best model only with val_loss available, skipping.\n"
          ]
        },
        {
          "output_type": "stream",
          "name": "stdout",
          "text": [
            "\b\b\b\b\b\b\b\b\b\b\b\b\b\b\b\b\b\b\b\b\b\b\b\b\b\b\b\b\b\b\b\b\b\b\b\b\b\b\b\b\b\b\b\b\b\b\b\b\b\b\b\b\b\b\b\b\b\b\b\b\b\b\b\r31/31 [==============================] - 10s 338ms/step - loss: 0.0821 - lr: 0.0010\n",
            "Epoch 31/50\n",
            "31/31 [==============================] - ETA: 0s - loss: 0.0772"
          ]
        },
        {
          "output_type": "stream",
          "name": "stderr",
          "text": [
            "WARNING:tensorflow:Can save best model only with val_loss available, skipping.\n"
          ]
        },
        {
          "output_type": "stream",
          "name": "stdout",
          "text": [
            "\b\b\b\b\b\b\b\b\b\b\b\b\b\b\b\b\b\b\b\b\b\b\b\b\b\b\b\b\b\b\b\b\b\b\b\b\b\b\b\b\b\b\b\b\b\b\b\b\b\b\b\b\b\b\b\b\b\b\b\b\b\b\b\r31/31 [==============================] - 7s 237ms/step - loss: 0.0772 - lr: 0.0010\n",
            "Epoch 32/50\n",
            "31/31 [==============================] - ETA: 0s - loss: 0.0770"
          ]
        },
        {
          "output_type": "stream",
          "name": "stderr",
          "text": [
            "WARNING:tensorflow:Can save best model only with val_loss available, skipping.\n"
          ]
        },
        {
          "output_type": "stream",
          "name": "stdout",
          "text": [
            "\b\b\b\b\b\b\b\b\b\b\b\b\b\b\b\b\b\b\b\b\b\b\b\b\b\b\b\b\b\b\b\b\b\b\b\b\b\b\b\b\b\b\b\b\b\b\b\b\b\b\b\b\b\b\b\b\b\b\b\b\b\b\b\r31/31 [==============================] - 9s 297ms/step - loss: 0.0770 - lr: 0.0010\n",
            "Epoch 33/50\n",
            "31/31 [==============================] - ETA: 0s - loss: 0.0793"
          ]
        },
        {
          "output_type": "stream",
          "name": "stderr",
          "text": [
            "WARNING:tensorflow:Can save best model only with val_loss available, skipping.\n"
          ]
        },
        {
          "output_type": "stream",
          "name": "stdout",
          "text": [
            "\b\b\b\b\b\b\b\b\b\b\b\b\b\b\b\b\b\b\b\b\b\b\b\b\b\b\b\b\b\b\b\b\b\b\b\b\b\b\b\b\b\b\b\b\b\b\b\b\b\b\b\b\b\b\b\b\b\b\b\b\b\b\b\r31/31 [==============================] - 8s 260ms/step - loss: 0.0793 - lr: 0.0010\n",
            "Epoch 34/50\n",
            "31/31 [==============================] - ETA: 0s - loss: 0.0695"
          ]
        },
        {
          "output_type": "stream",
          "name": "stderr",
          "text": [
            "WARNING:tensorflow:Can save best model only with val_loss available, skipping.\n"
          ]
        },
        {
          "output_type": "stream",
          "name": "stdout",
          "text": [
            "\b\b\b\b\b\b\b\b\b\b\b\b\b\b\b\b\b\b\b\b\b\b\b\b\b\b\b\b\b\b\b\b\b\b\b\b\b\b\b\b\b\b\b\b\b\b\b\b\b\b\b\b\b\b\b\b\b\b\b\b\b\b\b\r31/31 [==============================] - 9s 271ms/step - loss: 0.0695 - lr: 0.0010\n",
            "Epoch 35/50\n",
            "31/31 [==============================] - ETA: 0s - loss: 0.0690"
          ]
        },
        {
          "output_type": "stream",
          "name": "stderr",
          "text": [
            "WARNING:tensorflow:Can save best model only with val_loss available, skipping.\n"
          ]
        },
        {
          "output_type": "stream",
          "name": "stdout",
          "text": [
            "\b\b\b\b\b\b\b\b\b\b\b\b\b\b\b\b\b\b\b\b\b\b\b\b\b\b\b\b\b\b\b\b\b\b\b\b\b\b\b\b\b\b\b\b\b\b\b\b\b\b\b\b\b\b\b\b\b\b\b\b\b\b\b\r31/31 [==============================] - 9s 299ms/step - loss: 0.0690 - lr: 0.0010\n",
            "Epoch 36/50\n",
            "31/31 [==============================] - ETA: 0s - loss: 0.0790"
          ]
        },
        {
          "output_type": "stream",
          "name": "stderr",
          "text": [
            "WARNING:tensorflow:Can save best model only with val_loss available, skipping.\n"
          ]
        },
        {
          "output_type": "stream",
          "name": "stdout",
          "text": [
            "\b\b\b\b\b\b\b\b\b\b\b\b\b\b\b\b\b\b\b\b\b\b\b\b\b\b\b\b\b\b\b\b\b\b\b\b\b\b\b\b\b\b\b\b\b\b\b\b\b\b\b\b\b\b\b\b\b\b\b\b\b\b\b\r31/31 [==============================] - 8s 251ms/step - loss: 0.0790 - lr: 0.0010\n",
            "Epoch 37/50\n",
            "31/31 [==============================] - ETA: 0s - loss: 0.0718"
          ]
        },
        {
          "output_type": "stream",
          "name": "stderr",
          "text": [
            "WARNING:tensorflow:Can save best model only with val_loss available, skipping.\n"
          ]
        },
        {
          "output_type": "stream",
          "name": "stdout",
          "text": [
            "\b\b\b\b\b\b\b\b\b\b\b\b\b\b\b\b\b\b\b\b\b\b\b\b\b\b\b\b\b\b\b\b\b\b\b\b\b\b\b\b\b\b\b\b\b\b\b\b\b\b\b\b\b\b\b\b\b\b\b\b\b\b\b\r31/31 [==============================] - 10s 324ms/step - loss: 0.0718 - lr: 0.0010\n",
            "Epoch 38/50\n",
            "31/31 [==============================] - ETA: 0s - loss: 0.0691"
          ]
        },
        {
          "output_type": "stream",
          "name": "stderr",
          "text": [
            "WARNING:tensorflow:Can save best model only with val_loss available, skipping.\n"
          ]
        },
        {
          "output_type": "stream",
          "name": "stdout",
          "text": [
            "\b\b\b\b\b\b\b\b\b\b\b\b\b\b\b\b\b\b\b\b\b\b\b\b\b\b\b\b\b\b\b\b\b\b\b\b\b\b\b\b\b\b\b\b\b\b\b\b\b\b\b\b\b\b\b\b\b\b\b\b\b\b\b\r31/31 [==============================] - 7s 224ms/step - loss: 0.0691 - lr: 0.0010\n",
            "Epoch 39/50\n",
            "31/31 [==============================] - ETA: 0s - loss: 0.0630"
          ]
        },
        {
          "output_type": "stream",
          "name": "stderr",
          "text": [
            "WARNING:tensorflow:Can save best model only with val_loss available, skipping.\n"
          ]
        },
        {
          "output_type": "stream",
          "name": "stdout",
          "text": [
            "\b\b\b\b\b\b\b\b\b\b\b\b\b\b\b\b\b\b\b\b\b\b\b\b\b\b\b\b\b\b\b\b\b\b\b\b\b\b\b\b\b\b\b\b\b\b\b\b\b\b\b\b\b\b\b\b\b\b\b\b\b\b\b\r31/31 [==============================] - 10s 320ms/step - loss: 0.0630 - lr: 0.0010\n",
            "Epoch 40/50\n",
            "31/31 [==============================] - ETA: 0s - loss: 0.0795"
          ]
        },
        {
          "output_type": "stream",
          "name": "stderr",
          "text": [
            "WARNING:tensorflow:Can save best model only with val_loss available, skipping.\n"
          ]
        },
        {
          "output_type": "stream",
          "name": "stdout",
          "text": [
            "\b\b\b\b\b\b\b\b\b\b\b\b\b\b\b\b\b\b\b\b\b\b\b\b\b\b\b\b\b\b\b\b\b\b\b\b\b\b\b\b\b\b\b\b\b\b\b\b\b\b\b\b\b\b\b\b\b\b\b\b\b\b\b\r31/31 [==============================] - 7s 228ms/step - loss: 0.0795 - lr: 0.0010\n",
            "Epoch 41/50\n",
            "31/31 [==============================] - ETA: 0s - loss: 0.0713"
          ]
        },
        {
          "output_type": "stream",
          "name": "stderr",
          "text": [
            "WARNING:tensorflow:Can save best model only with val_loss available, skipping.\n"
          ]
        },
        {
          "output_type": "stream",
          "name": "stdout",
          "text": [
            "\b\b\b\b\b\b\b\b\b\b\b\b\b\b\b\b\b\b\b\b\b\b\b\b\b\b\b\b\b\b\b\b\b\b\b\b\b\b\b\b\b\b\b\b\b\b\b\b\b\b\b\b\b\b\b\b\b\b\b\b\b\b\b\r31/31 [==============================] - 12s 398ms/step - loss: 0.0713 - lr: 0.0010\n",
            "Epoch 42/50\n",
            "31/31 [==============================] - ETA: 0s - loss: 0.0661"
          ]
        },
        {
          "output_type": "stream",
          "name": "stderr",
          "text": [
            "WARNING:tensorflow:Can save best model only with val_loss available, skipping.\n"
          ]
        },
        {
          "output_type": "stream",
          "name": "stdout",
          "text": [
            "\b\b\b\b\b\b\b\b\b\b\b\b\b\b\b\b\b\b\b\b\b\b\b\b\b\b\b\b\b\b\b\b\b\b\b\b\b\b\b\b\b\b\b\b\b\b\b\b\b\b\b\b\b\b\b\b\b\b\b\b\b\b\b\r31/31 [==============================] - 9s 298ms/step - loss: 0.0661 - lr: 0.0010\n",
            "Epoch 43/50\n",
            "31/31 [==============================] - ETA: 0s - loss: 0.0661"
          ]
        },
        {
          "output_type": "stream",
          "name": "stderr",
          "text": [
            "WARNING:tensorflow:Can save best model only with val_loss available, skipping.\n"
          ]
        },
        {
          "output_type": "stream",
          "name": "stdout",
          "text": [
            "\b\b\b\b\b\b\b\b\b\b\b\b\b\b\b\b\b\b\b\b\b\b\b\b\b\b\b\b\b\b\b\b\b\b\b\b\b\b\b\b\b\b\b\b\b\b\b\b\b\b\b\b\b\b\b\b\b\b\b\b\b\b\b\r31/31 [==============================] - 10s 304ms/step - loss: 0.0661 - lr: 0.0010\n",
            "Epoch 44/50\n",
            "31/31 [==============================] - ETA: 0s - loss: 0.0720"
          ]
        },
        {
          "output_type": "stream",
          "name": "stderr",
          "text": [
            "WARNING:tensorflow:Can save best model only with val_loss available, skipping.\n"
          ]
        },
        {
          "output_type": "stream",
          "name": "stdout",
          "text": [
            "\b\b\b\b\b\b\b\b\b\b\b\b\b\b\b\b\b\b\b\b\b\b\b\b\b\b\b\b\b\b\b\b\b\b\b\b\b\b\b\b\b\b\b\b\b\b\b\b\b\b\b\b\b\b\b\b\b\b\b\b\b\b\b\r31/31 [==============================] - 8s 252ms/step - loss: 0.0720 - lr: 0.0010\n",
            "Epoch 45/50\n",
            "31/31 [==============================] - ETA: 0s - loss: 0.0708"
          ]
        },
        {
          "output_type": "stream",
          "name": "stderr",
          "text": [
            "WARNING:tensorflow:Can save best model only with val_loss available, skipping.\n"
          ]
        },
        {
          "output_type": "stream",
          "name": "stdout",
          "text": [
            "\b\b\b\b\b\b\b\b\b\b\b\b\b\b\b\b\b\b\b\b\b\b\b\b\b\b\b\b\b\b\b\b\b\b\b\b\b\b\b\b\b\b\b\b\b\b\b\b\b\b\b\b\b\b\b\b\b\b\b\b\b\b\b\r31/31 [==============================] - 9s 284ms/step - loss: 0.0708 - lr: 0.0010\n",
            "Epoch 46/50\n",
            "31/31 [==============================] - ETA: 0s - loss: 0.0672"
          ]
        },
        {
          "output_type": "stream",
          "name": "stderr",
          "text": [
            "WARNING:tensorflow:Can save best model only with val_loss available, skipping.\n"
          ]
        },
        {
          "output_type": "stream",
          "name": "stdout",
          "text": [
            "\b\b\b\b\b\b\b\b\b\b\b\b\b\b\b\b\b\b\b\b\b\b\b\b\b\b\b\b\b\b\b\b\b\b\b\b\b\b\b\b\b\b\b\b\b\b\b\b\b\b\b\b\b\b\b\b\b\b\b\b\b\b\b\r31/31 [==============================] - 9s 279ms/step - loss: 0.0672 - lr: 0.0010\n",
            "Epoch 47/50\n",
            "31/31 [==============================] - ETA: 0s - loss: 0.0678"
          ]
        },
        {
          "output_type": "stream",
          "name": "stderr",
          "text": [
            "WARNING:tensorflow:Can save best model only with val_loss available, skipping.\n"
          ]
        },
        {
          "output_type": "stream",
          "name": "stdout",
          "text": [
            "\b\b\b\b\b\b\b\b\b\b\b\b\b\b\b\b\b\b\b\b\b\b\b\b\b\b\b\b\b\b\b\b\b\b\b\b\b\b\b\b\b\b\b\b\b\b\b\b\b\b\b\b\b\b\b\b\b\b\b\b\b\b\b\r31/31 [==============================] - 8s 263ms/step - loss: 0.0678 - lr: 0.0010\n",
            "Epoch 48/50\n",
            "31/31 [==============================] - ETA: 0s - loss: 0.0615"
          ]
        },
        {
          "output_type": "stream",
          "name": "stderr",
          "text": [
            "WARNING:tensorflow:Can save best model only with val_loss available, skipping.\n"
          ]
        },
        {
          "output_type": "stream",
          "name": "stdout",
          "text": [
            "\b\b\b\b\b\b\b\b\b\b\b\b\b\b\b\b\b\b\b\b\b\b\b\b\b\b\b\b\b\b\b\b\b\b\b\b\b\b\b\b\b\b\b\b\b\b\b\b\b\b\b\b\b\b\b\b\b\b\b\b\b\b\b\r31/31 [==============================] - 9s 303ms/step - loss: 0.0615 - lr: 0.0010\n",
            "Epoch 49/50\n",
            "31/31 [==============================] - ETA: 0s - loss: 0.0550"
          ]
        },
        {
          "output_type": "stream",
          "name": "stderr",
          "text": [
            "WARNING:tensorflow:Can save best model only with val_loss available, skipping.\n"
          ]
        },
        {
          "output_type": "stream",
          "name": "stdout",
          "text": [
            "\b\b\b\b\b\b\b\b\b\b\b\b\b\b\b\b\b\b\b\b\b\b\b\b\b\b\b\b\b\b\b\b\b\b\b\b\b\b\b\b\b\b\b\b\b\b\b\b\b\b\b\b\b\b\b\b\b\b\b\b\b\b\b\r31/31 [==============================] - 8s 238ms/step - loss: 0.0550 - lr: 0.0010\n",
            "Epoch 50/50\n",
            "31/31 [==============================] - ETA: 0s - loss: 0.0594"
          ]
        },
        {
          "output_type": "stream",
          "name": "stderr",
          "text": [
            "WARNING:tensorflow:Can save best model only with val_loss available, skipping.\n"
          ]
        },
        {
          "output_type": "stream",
          "name": "stdout",
          "text": [
            "\b\b\b\b\b\b\b\b\b\b\b\b\b\b\b\b\b\b\b\b\b\b\b\b\b\b\b\b\b\b\b\b\b\b\b\b\b\b\b\b\b\b\b\b\b\b\b\b\b\b\b\b\b\b\b\b\b\b\b\b\b\b\b\r31/31 [==============================] - 10s 314ms/step - loss: 0.0594 - lr: 0.0010\n"
          ]
        }
      ]
    },
    {
      "cell_type": "markdown",
      "source": [
        "# Test bằng cách thử dự đoán bằng model đã train\n",
        "\n",
        "\n"
      ],
      "metadata": {
        "id": "TVb8DFsu6hEY"
      }
    },
    {
      "cell_type": "code",
      "source": [
        "def make_prediction(model, data, n_steps_in, scaler):\n",
        "    # Lấy dữ liệu gần nhất\n",
        "    last_data = data[-n_steps_in:]\n",
        "    last_data_scaled = scaler.transform(last_data)\n",
        "\n",
        "    # Reshape dữ liệu cho mô hình\n",
        "    last_data_scaled = np.reshape(last_data_scaled, (1, last_data_scaled.shape[0], 1))\n",
        "\n",
        "    # Dự đoán\n",
        "    prediction_scaled = model.predict(last_data_scaled)\n",
        "    prediction = scaler.inverse_transform(prediction_scaled)\n",
        "\n",
        "    return prediction.flatten()\n",
        "\n",
        "# Thực hiện dự đoán\n",
        "bnb_predicted_prices = make_prediction(bnb_model, bnb_dataset, n_steps_in, bnb_scaler)\n",
        "eth_predicted_prices = make_prediction(eth_model, eth_dataset, n_steps_in, eth_scaler)"
      ],
      "metadata": {
        "colab": {
          "base_uri": "https://localhost:8080/"
        },
        "id": "H7lNHRCxza-k",
        "outputId": "bb9efdf7-5313-4051-d0ba-5a4753f3732e"
      },
      "execution_count": 35,
      "outputs": [
        {
          "output_type": "stream",
          "name": "stdout",
          "text": [
            "1/1 [==============================] - 2s 2s/step\n"
          ]
        },
        {
          "output_type": "stream",
          "name": "stderr",
          "text": [
            "WARNING:tensorflow:5 out of the last 5 calls to <function Model.make_predict_function.<locals>.predict_function at 0x7cb21458f7f0> triggered tf.function retracing. Tracing is expensive and the excessive number of tracings could be due to (1) creating @tf.function repeatedly in a loop, (2) passing tensors with different shapes, (3) passing Python objects instead of tensors. For (1), please define your @tf.function outside of the loop. For (2), @tf.function has reduce_retracing=True option that can avoid unnecessary retracing. For (3), please refer to https://www.tensorflow.org/guide/function#controlling_retracing and https://www.tensorflow.org/api_docs/python/tf/function for  more details.\n"
          ]
        },
        {
          "output_type": "stream",
          "name": "stdout",
          "text": [
            "1/1 [==============================] - 2s 2s/step\n"
          ]
        }
      ]
    },
    {
      "cell_type": "code",
      "source": [
        "import matplotlib.pyplot as plt\n",
        "\n",
        "# Lấy dữ liệu thực tế\n",
        "actual_prices = bnb_dataset.flatten()  # Sử dụng toàn bộ dữ liệu\n",
        "\n",
        "# Tạo mốc thời gian cho dự đoán\n",
        "predicted_dates = pd.date_range(start=bnb_df.index[-1], periods=n_steps_out + 1, closed='right')\n",
        "\n",
        "# Vẽ biểu đồ\n",
        "plt.figure(figsize=(12, 6))\n",
        "plt.plot(bnb_df.index, actual_prices, label='Actual Prices')  # Sử dụng toàn bộ dữ liệu\n",
        "plt.plot(predicted_dates, bnb_predicted_prices, label='Predicted Prices')\n",
        "plt.title('BNB Price Prediction')\n",
        "plt.xlabel('Date')\n",
        "plt.ylabel('Price')\n",
        "plt.legend()\n",
        "plt.show()\n",
        "\n",
        "print(bnb_predicted_prices.flatten().tolist())"
      ],
      "metadata": {
        "colab": {
          "base_uri": "https://localhost:8080/",
          "height": 636
        },
        "id": "VaqLTvBGzeMx",
        "outputId": "5d882a12-eb1a-430c-8f85-9610baab3da5"
      },
      "execution_count": 36,
      "outputs": [
        {
          "output_type": "stream",
          "name": "stderr",
          "text": [
            "<ipython-input-36-e92ba8ce877b>:7: FutureWarning: Argument `closed` is deprecated in favor of `inclusive`.\n",
            "  predicted_dates = pd.date_range(start=bnb_df.index[-1], periods=n_steps_out + 1, closed='right')\n"
          ]
        },
        {
          "output_type": "display_data",
          "data": {
            "text/plain": [
              "<Figure size 1200x600 with 1 Axes>"
            ],
            "image/png": "[encoded data removed]"
          },
          "metadata": {}
        },
        {
          "output_type": "stream",
          "name": "stdout",
          "text": [
            "[262.1484069824219, 266.8090515136719, 278.3325500488281, 281.8955383300781, 283.9211120605469, 273.8690490722656, 272.8607177734375, 284.7831726074219, 283.47174072265625, 285.9176940917969, 294.84613037109375, 293.025390625, 293.8212890625, 300.87030029296875, 298.60577392578125, 306.9064636230469, 307.7636413574219, 302.4447326660156, 312.7743225097656, 302.6080017089844, 311.2309265136719, 315.0244140625, 316.71319580078125, 307.5546875, 316.35791015625, 314.0456237792969, 307.31060791015625, 307.561279296875, 307.5809326171875, 313.58203125, 292.8657531738281, 298.3929748535156, 303.8273620605469, 299.4444274902344, 314.5771789550781, 305.8744201660156, 301.5044250488281, 295.91180419921875, 299.6186828613281, 295.0517883300781, 300.4285888671875, 297.5299377441406, 288.43511962890625, 283.4033203125, 289.7886962890625, 282.2170104980469, 278.2179260253906, 274.463623046875, 275.15313720703125, 271.111083984375, 269.77239990234375, 257.6203918457031, 265.5723876953125, 253.99046325683594, 252.21302795410156, 252.1605224609375, 250.66656494140625, 257.279296875, 250.42713928222656, 246.72256469726562, 247.15122985839844, 244.38589477539062, 246.6448516845703, 238.85801696777344, 236.50625610351562, 239.8222198486328, 231.6089630126953, 241.64404296875, 242.44677734375, 259.26544189453125, 248.26231384277344, 246.43521118164062, 247.78729248046875, 240.15536499023438, 234.6650390625, 250.62815856933594, 245.61541748046875, 252.8268585205078, 247.66563415527344, 245.8736572265625, 241.8707733154297, 252.5463104248047, 247.6250762939453, 250.46832275390625, 247.65151977539062, 245.86961364746094, 246.87802124023438, 255.53993225097656, 257.0889587402344, 256.3018493652344, 253.4833984375, 250.23141479492188, 243.4207763671875, 253.90322875976562, 253.959716796875, 259.9103698730469, 258.9122009277344, 258.2189636230469, 266.84912109375, 263.5750427246094, 261.0627746582031, 252.5977020263672, 267.1087341308594, 263.4749755859375, 273.13836669921875, 272.9018249511719, 269.50592041015625, 273.9826354980469, 277.79449462890625, 268.5169677734375, 275.81536865234375, 277.2855224609375, 293.35284423828125, 284.65411376953125, 284.7741394042969, 295.2140808105469, 290.8320007324219, 288.07196044921875, 291.1932067871094, 291.50372314453125, 292.9458312988281, 299.2433166503906, 301.9519348144531, 303.0024719238281, 304.34033203125, 309.587890625, 300.88134765625, 298.8050842285156, 301.2193298339844, 304.7119140625, 312.2797546386719, 318.50982666015625, 311.15850830078125, 308.6304931640625, 316.1516418457031, 315.0746154785156, 324.3691711425781, 308.5669250488281, 320.1816711425781, 323.19622802734375, 322.3684387207031, 327.9794006347656, 328.61614990234375, 331.7294921875, 334.2749328613281, 333.4139709472656, 339.5694580078125, 325.3047180175781, 330.0745849609375, 325.7244873046875, 332.90948486328125, 329.8466796875, 330.2922668457031, 325.38543701171875, 327.7647399902344, 328.7840881347656, 322.0740661621094, 319.7962951660156, 315.98785400390625, 321.15411376953125, 317.9185485839844, 319.1836853027344, 328.40985107421875, 318.36419677734375, 321.6512756347656, 323.3778991699219, 310.38726806640625, 320.00958251953125, 318.5313415527344, 311.1128845214844, 315.52899169921875, 315.3211364746094, 314.6809387207031, 300.1664123535156, 319.56268310546875, 315.109130859375, 307.7022399902344, 307.73175048828125, 312.470703125, 306.1347351074219]\n"
          ]
        }
      ]
    },
    {
      "cell_type": "code",
      "source": [
        "import matplotlib.pyplot as plt\n",
        "\n",
        "# Lấy dữ liệu thực tế\n",
        "actual_prices = eth_dataset.flatten()  # Sử dụng toàn bộ dữ liệu\n",
        "\n",
        "# Tạo mốc thời gian cho dự đoán\n",
        "predicted_dates = pd.date_range(start=eth_df.index[-1], periods=n_steps_out + 1, closed='right')\n",
        "\n",
        "# Vẽ biểu đồ\n",
        "plt.figure(figsize=(12, 6))\n",
        "plt.plot(bnb_df.index, actual_prices, label='Actual Prices')  # Sử dụng toàn bộ dữ liệu\n",
        "plt.plot(predicted_dates, eth_predicted_prices, label='Predicted Prices')\n",
        "plt.title('ETH Price Prediction')\n",
        "plt.xlabel('Date')\n",
        "plt.ylabel('Price')\n",
        "plt.legend()\n",
        "plt.show()\n",
        "\n",
        "print(eth_predicted_prices.flatten().tolist())"
      ],
      "metadata": {
        "colab": {
          "base_uri": "https://localhost:8080/",
          "height": 636
        },
        "id": "2V-IzpTsdUuu",
        "outputId": "af2d9018-9b65-481c-ff7d-f8640952fb45"
      },
      "execution_count": 37,
      "outputs": [
        {
          "output_type": "stream",
          "name": "stderr",
          "text": [
            "<ipython-input-37-af161e5baf37>:7: FutureWarning: Argument `closed` is deprecated in favor of `inclusive`.\n",
            "  predicted_dates = pd.date_range(start=eth_df.index[-1], periods=n_steps_out + 1, closed='right')\n"
          ]
        },
        {
          "output_type": "display_data",
          "data": {
            "text/plain": [
              "<Figure size 1200x600 with 1 Axes>"
            ],
            "image/png": "[encoded data removed]"
          },
          "metadata": {}
        },
        {
          "output_type": "stream",
          "name": "stdout",
          "text": [
            "[2179.323974609375, 2137.771728515625, 2164.137939453125, 2152.804931640625, 2225.849365234375, 2192.6103515625, 2089.181396484375, 2175.519287109375, 2179.998291015625, 2165.691162109375, 2146.565673828125, 2215.83251953125, 2204.629638671875, 2190.54443359375, 2206.451171875, 2223.17724609375, 2145.10400390625, 2181.629150390625, 2161.47216796875, 2243.564453125, 2209.17431640625, 2175.0771484375, 2198.595947265625, 2200.94091796875, 2229.768798828125, 2220.443359375, 2166.451171875, 2272.69775390625, 2247.200927734375, 2226.903076171875, 2246.123291015625, 2208.60400390625, 2239.724853515625, 2228.89892578125, 2213.30908203125, 2324.30322265625, 2288.4091796875, 2314.66162109375, 2292.4306640625, 2332.885986328125, 2407.403564453125, 2377.05517578125, 2362.43017578125, 2355.469970703125, 2405.23974609375, 2422.6875, 2383.1005859375, 2331.913818359375, 2466.72705078125, 2464.887451171875, 2435.795166015625, 2491.828369140625, 2481.822265625, 2517.600830078125, 2532.623779296875, 2512.999755859375, 2502.278564453125, 2519.94140625, 2535.603515625, 2513.4296875, 2521.517822265625, 2533.12939453125, 2544.619873046875, 2666.771484375, 2620.077392578125, 2625.26123046875, 2692.644775390625, 2763.0126953125, 2696.893798828125, 2754.025146484375, 2707.721435546875, 2673.51220703125, 2744.583251953125, 2694.408447265625, 2696.65185546875, 2725.337890625, 2708.02734375, 2720.2119140625, 2679.42236328125, 2643.994140625, 2636.03955078125, 2649.596435546875, 2626.5673828125, 2605.1904296875, 2610.40234375, 2526.407958984375, 2492.695068359375, 2474.7333984375, 2451.178955078125, 2492.295166015625, 2469.794677734375, 2415.372314453125, 2445.50927734375, 2438.057861328125, 2338.897216796875, 2308.808349609375, 2308.712158203125, 2361.47314453125, 2334.5576171875, 2304.05615234375, 2292.229248046875, 2284.68896484375, 2247.5029296875, 2297.468505859375, 2270.26318359375, 2272.148681640625, 2209.033447265625, 2226.317138671875, 2295.28173828125, 2295.361572265625, 2225.863037109375, 2206.739990234375, 2256.791259765625, 2184.967529296875, 2188.682373046875, 2207.2080078125, 2195.93359375, 2144.76171875, 2042.01025390625, 2139.599609375, 2083.767578125, 2076.7529296875, 2118.724365234375, 2074.18115234375, 2094.51220703125, 2027.5322265625, 2009.163818359375, 2001.7781982421875, 1918.9609375, 1955.2169189453125, 2028.1912841796875, 2009.0965576171875, 2097.13916015625, 1990.4791259765625, 1920.154541015625, 1937.58984375, 1959.17724609375, 1948.1129150390625, 1970.34033203125, 2078.922607421875, 2002.5833740234375, 2035.849853515625, 2043.382080078125, 2085.05126953125, 2081.865234375, 2106.49267578125, 2036.271728515625, 2048.05908203125, 2083.53271484375, 2146.78955078125, 2130.5380859375, 2179.055908203125, 2188.8447265625, 2247.67578125, 2230.31494140625, 2215.022216796875, 2275.757568359375, 2277.423583984375, 2319.8291015625, 2266.463134765625, 2249.940185546875, 2418.572265625, 2400.34326171875, 2454.193603515625, 2446.2861328125, 2439.040283203125, 2512.368896484375, 2521.666259765625, 2580.859375, 2472.83447265625, 2601.552978515625, 2577.551025390625, 2527.24267578125, 2604.174072265625, 2604.159912109375, 2604.1357421875, 2573.263671875, 2659.896240234375, 2793.691650390625, 2754.86767578125]\n"
          ]
        }
      ]
    },
    {
      "cell_type": "markdown",
      "source": [
        "# Tải xuống model và scaler"
      ],
      "metadata": {
        "id": "JnKRtT956s39"
      }
    },
    {
      "cell_type": "code",
      "source": [
        "# Lưu model\n",
        "bnb_model.save('bnb_model.h5')\n",
        "\n",
        "# Lưu scaler\n",
        "import joblib\n",
        "joblib.dump(bnb_scaler, 'bnb_scaler.gz')\n",
        "\n",
        "import zipfile\n",
        "\n",
        "# Tạo zip file\n",
        "with zipfile.ZipFile('bnb_model_and_scaler.zip', 'w') as zipf:\n",
        "    zipf.write('bnb_model.h5', arcname='bnb_model.h5')\n",
        "    zipf.write('bnb_scaler.gz', arcname='bnb_scaler.gz')"
      ],
      "metadata": {
        "colab": {
          "base_uri": "https://localhost:8080/"
        },
        "id": "wvrpM-cydoWR",
        "outputId": "981510bd-02dc-4548-83af-0ee344559999"
      },
      "execution_count": 38,
      "outputs": [
        {
          "output_type": "stream",
          "name": "stderr",
          "text": [
            "/usr/local/lib/python3.10/dist-packages/keras/src/engine/training.py:3079: UserWarning: You are saving your model as an HDF5 file via `model.save()`. This file format is considered legacy. We recommend using instead the native Keras format, e.g. `model.save('my_model.keras')`.\n",
            "  saving_api.save_model(\n"
          ]
        }
      ]
    },
    {
      "cell_type": "code",
      "source": [
        "# Lưu model\n",
        "eth_model.save('eth_model.h5')\n",
        "\n",
        "# Lưu scaler\n",
        "import joblib\n",
        "joblib.dump(eth_scaler, 'eth_scaler.gz')\n",
        "\n",
        "# Tạo zip file\n",
        "with zipfile.ZipFile('eth_model_and_scaler.zip', 'w') as zipf:\n",
        "    zipf.write('eth_model.h5', arcname='eth_model.h5')\n",
        "    zipf.write('eth_scaler.gz', arcname='eth_scaler.gz')"
      ],
      "metadata": {
        "id": "12utLpLLdz3T"
      },
      "execution_count": 39,
      "outputs": []
    },
    {
      "cell_type": "code",
      "source": [
        "from google.colab import files\n",
        "\n",
        "files.download('bnb_model_and_scaler.zip')\n",
        "files.download('eth_model_and_scaler.zip')"
      ],
      "metadata": {
        "colab": {
          "base_uri": "https://localhost:8080/",
          "height": 17
        },
        "id": "7aLYZNE1d1hs",
        "outputId": "6d6f1ac8-d8bc-4f04-d809-e03b0eba84bc"
      },
      "execution_count": 40,
      "outputs": [
        {
          "output_type": "display_data",
          "data": {
            "text/plain": [
              "<IPython.core.display.Javascript object>"
            ],
            "application/javascript": [
              "\n",
              "    async function download(id, filename, size) {\n",
              "      if (!google.colab.kernel.accessAllowed) {\n",
              "        return;\n",
              "      }\n",
              "      const div = document.createElement('div');\n",
              "      const label = document.createElement('label');\n",
              "      label.textContent = `Downloading \"${filename}\": `;\n",
              "      div.appendChild(label);\n",
              "      const progress = document.createElement('progress');\n",
              "      progress.max = size;\n",
              "      div.appendChild(progress);\n",
              "      document.body.appendChild(div);\n",
              "\n",
              "      const buffers = [];\n",
              "      let downloaded = 0;\n",
              "\n",
              "      const channel = await google.colab.kernel.comms.open(id);\n",
              "      // Send a message to notify the kernel that we're ready.\n",
              "      channel.send({})\n",
              "\n",
              "      for await (const message of channel.messages) {\n",
              "        // Send a message to notify the kernel that we're ready.\n",
              "        channel.send({})\n",
              "        if (message.buffers) {\n",
              "          for (const buffer of message.buffers) {\n",
              "            buffers.push(buffer);\n",
              "            downloaded += buffer.byteLength;\n",
              "            progress.value = downloaded;\n",
              "          }\n",
              "        }\n",
              "      }\n",
              "      const blob = new Blob(buffers, {type: 'application/binary'});\n",
              "      const a = document.createElement('a');\n",
              "      a.href = window.URL.createObjectURL(blob);\n",
              "      a.download = filename;\n",
              "      div.appendChild(a);\n",
              "      a.click();\n",
              "      div.remove();\n",
              "    }\n",
              "  "
            ]
          },
          "metadata": {}
        },
        {
          "output_type": "display_data",
          "data": {
            "text/plain": [
              "<IPython.core.display.Javascript object>"
            ],
            "application/javascript": [
              "download(\"download_eeabc4dc-3b11-415d-8c2f-f629b8b1692e\", \"bnb_model_and_scaler.zip\", 4375536)"
            ]
          },
          "metadata": {}
        },
        {
          "output_type": "display_data",
          "data": {
            "text/plain": [
              "<IPython.core.display.Javascript object>"
            ],
            "application/javascript": [
              "\n",
              "    async function download(id, filename, size) {\n",
              "      if (!google.colab.kernel.accessAllowed) {\n",
              "        return;\n",
              "      }\n",
              "      const div = document.createElement('div');\n",
              "      const label = document.createElement('label');\n",
              "      label.textContent = `Downloading \"${filename}\": `;\n",
              "      div.appendChild(label);\n",
              "      const progress = document.createElement('progress');\n",
              "      progress.max = size;\n",
              "      div.appendChild(progress);\n",
              "      document.body.appendChild(div);\n",
              "\n",
              "      const buffers = [];\n",
              "      let downloaded = 0;\n",
              "\n",
              "      const channel = await google.colab.kernel.comms.open(id);\n",
              "      // Send a message to notify the kernel that we're ready.\n",
              "      channel.send({})\n",
              "\n",
              "      for await (const message of channel.messages) {\n",
              "        // Send a message to notify the kernel that we're ready.\n",
              "        channel.send({})\n",
              "        if (message.buffers) {\n",
              "          for (const buffer of message.buffers) {\n",
              "            buffers.push(buffer);\n",
              "            downloaded += buffer.byteLength;\n",
              "            progress.value = downloaded;\n",
              "          }\n",
              "        }\n",
              "      }\n",
              "      const blob = new Blob(buffers, {type: 'application/binary'});\n",
              "      const a = document.createElement('a');\n",
              "      a.href = window.URL.createObjectURL(blob);\n",
              "      a.download = filename;\n",
              "      div.appendChild(a);\n",
              "      a.click();\n",
              "      div.remove();\n",
              "    }\n",
              "  "
            ]
          },
          "metadata": {}
        },
        {
          "output_type": "display_data",
          "data": {
            "text/plain": [
              "<IPython.core.display.Javascript object>"
            ],
            "application/javascript": [
              "download(\"download_e59ed46d-49b2-44c0-aed4-145edb9e9143\", \"eth_model_and_scaler.zip\", 4375532)"
            ]
          },
          "metadata": {}
        }
      ]
    }
  ]
}